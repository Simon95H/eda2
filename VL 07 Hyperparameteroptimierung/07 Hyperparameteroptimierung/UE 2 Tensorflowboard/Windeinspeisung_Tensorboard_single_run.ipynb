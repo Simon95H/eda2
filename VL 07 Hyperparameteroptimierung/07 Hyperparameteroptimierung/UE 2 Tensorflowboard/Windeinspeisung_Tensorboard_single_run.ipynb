{
 "cells": [
  {
   "cell_type": "markdown",
   "id": "4e76e154",
   "metadata": {},
   "source": [
    "# Modellierung Windeinspeisung"
   ]
  },
  {
   "cell_type": "markdown",
   "id": "b311a1d5",
   "metadata": {
    "tags": []
   },
   "source": [
    "**Lernziele**\n",
    "- Hyperparameteroptimierung mit tensorboard"
   ]
  },
  {
   "cell_type": "markdown",
   "id": "08d23e61",
   "metadata": {
    "tags": []
   },
   "source": [
    "## Pakete und Daten laden"
   ]
  },
  {
   "cell_type": "code",
   "execution_count": 1,
   "id": "b35f2c5f",
   "metadata": {
    "tags": []
   },
   "outputs": [
    {
     "name": "stdout",
     "output_type": "stream",
     "text": [
      "Warning: Cannot change to a different GUI toolkit: widget. Using qt5 instead.\n"
     ]
    }
   ],
   "source": [
    "# Datenorganisation\n",
    "import pandas as pd\n",
    "import numpy as np\n",
    "import datetime \n",
    "\n",
    "# Ploterstellung\n",
    "import matplotlib as mpl\n",
    "import matplotlib.pyplot as plt\n",
    "%matplotlib widget\n",
    "import seaborn as sns\n",
    "\n",
    "# Datenvorbereitung\n",
    "from sklearn import preprocessing\n",
    "from sklearn.decomposition import PCA\n",
    "from sklearn.preprocessing import MinMaxScaler, StandardScaler,OneHotEncoder\n",
    "from sklearn.model_selection import train_test_split\n",
    "\n",
    "# Standardeinstellungen\n",
    "plt.rcParams['axes.xmargin'] = 0\n",
    "pd.set_option('display.precision',3)\n",
    "np.set_printoptions(precision=3)\n",
    "\n",
    "# Tensorflow\n",
    "from tensorflow.keras.models import Sequential, Model\n",
    "from tensorflow.keras.layers import (Input, LSTM, Dense, Bidirectional, Dropout)\n",
    "from tensorflow.keras import optimizers\n",
    "from tensorflow.keras.callbacks import (EarlyStopping, ModelCheckpoint)\n",
    "from tensorflow import keras\n",
    "\n",
    "import tensorflow as tf\n",
    "import keras_tuner as kt\n",
    "import tensorboard\n",
    "from tensorboard.plugins.hparams import api as hp\n",
    "tensorboard.__version__\n",
    "# Load the TensorBoard notebook extension\n",
    "%load_ext tensorboard\n",
    "\n",
    "#sonst  Module \n",
    "import copy\n",
    "import sys\n",
    "from math import ceil\n",
    "\n",
    "# Eingene Module \n",
    "# temporäre Einbinden des neuen Pfades mit zu ladenden Dateien\n",
    "sys.path.append(\"C:\\\\Users\\\\rs3753e\\\\sciebo\\\\Vorlesungen\\\\SoSe_Energiedatenanalyse Datamining\\\\internalfunctions\\\\\")\n",
    "from KNN import KNN"
   ]
  },
  {
   "cell_type": "code",
   "execution_count": 2,
   "id": "a2182322",
   "metadata": {
    "tags": []
   },
   "outputs": [],
   "source": [
    "# Laden des vorbereiteten WinddatenFrame\n",
    "wind=pd.read_hdf('../daten/windeinspeisung_bereinigt','Obj1')"
   ]
  },
  {
   "cell_type": "markdown",
   "id": "0c6adc01",
   "metadata": {
    "jp-MarkdownHeadingCollapsed": true,
    "tags": []
   },
   "source": [
    "## Datenorganisation"
   ]
  },
  {
   "cell_type": "markdown",
   "id": "d01c105b",
   "metadata": {},
   "source": [
    "Erstellung eines KNN-Objektes mit normierten/Standardisierten Trainings/Validierungs- und Testdaten"
   ]
  },
  {
   "cell_type": "code",
   "execution_count": 3,
   "id": "96b1ac43",
   "metadata": {
    "jupyter": {
     "source_hidden": true
    },
    "tags": []
   },
   "outputs": [],
   "source": [
    "# Vorgaben zur Datentrennung\n",
    "sections=(.6,.25,.15)\n",
    "shuffle=False\n",
    "\n",
    "# Vorbereitete Klasse\n",
    "model = KNN()\n",
    "# Unterteilung der Samples\n",
    "model.split_sample(pd.DataFrame(wind[\"Ws_avg\"]),pd.DataFrame(wind[\"S_avg\"]),shuffle=shuffle,sections =sections)\n",
    "#Auswahl der Skalierungsmethode\n",
    "model.scaler(\"MinMax\")"
   ]
  },
  {
   "cell_type": "markdown",
   "id": "475e28ae",
   "metadata": {},
   "source": [
    "## Erstellung eines KNN zur Prognose der Einspeisung"
   ]
  },
  {
   "cell_type": "markdown",
   "id": "3be2327b",
   "metadata": {},
   "source": [
    "**Definition Features und Output**"
   ]
  },
  {
   "cell_type": "code",
   "execution_count": 4,
   "id": "3d0a3205",
   "metadata": {
    "jupyter": {
     "source_hidden": true
    },
    "tags": []
   },
   "outputs": [
    {
     "data": {
      "text/plain": [
       "(121071, 1)"
      ]
     },
     "execution_count": 4,
     "metadata": {},
     "output_type": "execute_result"
    }
   ],
   "source": [
    "model.numFeatures = 1\n",
    "model.numResponses = 1;\n",
    "model.x[0].shape"
   ]
  },
  {
   "cell_type": "markdown",
   "id": "11905e82",
   "metadata": {},
   "source": [
    "### Hyperparameter definieren"
   ]
  },
  {
   "cell_type": "markdown",
   "id": "cb1f8fb0",
   "metadata": {},
   "source": [
    "Die Ausprägungen der Parametervariation wird festgelegt.\n",
    "hp.HParam ist eine Klasse, um die Hyperparameter zu definieren und zu loggen. Die Klasse wird von tensorboard zur Verfügung gestellt."
   ]
  },
  {
   "cell_type": "markdown",
   "id": "1bbeb1fb",
   "metadata": {},
   "source": [
    "### Modellaufbau mit Keras-functional API Schreibweise"
   ]
  },
  {
   "cell_type": "code",
   "execution_count": 13,
   "id": "354e5e2e",
   "metadata": {
    "scrolled": true,
    "tags": []
   },
   "outputs": [],
   "source": [
    "# Modellaufbau mit gewählter Hyperparameterausstattung  \n",
    "    # Define model layers.\n",
    "input_layer = Input(shape=(model.numFeatures,))\n",
    "\n",
    "X= Dense(units=128,activation = 'relu',name='dense1')(input_layer)\n",
    "X= Dense(units=128,activation = 'relu',name='dense2')(X) \n",
    "#X = Dropout(0.1)(X)\n",
    "\n",
    "# Output\n",
    "y_output= Dense(units='1', name='output')(X)  \n",
    "\n",
    "# Verbindung von Input und Output-Schicht   \n",
    "KNN = Model(inputs=input_layer,outputs=y_output)\n",
    "\n",
    "KNN.compile(optimizer=keras.optimizers.Adam(learning_rate =1E-1),\n",
    "            loss=keras.losses.MeanSquaredError(),\n",
    "            metrics=keras.losses.MeanAbsoluteError()) "
   ]
  },
  {
   "cell_type": "markdown",
   "id": "eb429931",
   "metadata": {},
   "source": [
    "Der callback `tf.keras.callbacks.TensorBoard` ermöglicht es, dass der Lauf in einem entsprechenden Verzeichnis `log_dir` abgespeichert wird."
   ]
  },
  {
   "cell_type": "code",
   "execution_count": 14,
   "id": "89f6bdc5",
   "metadata": {
    "id": "WAQThq539CEJ"
   },
   "outputs": [
    {
     "name": "stdout",
     "output_type": "stream",
     "text": [
      "Epoch 1/6\n",
      "3784/3784 [==============================] - 13s 3ms/step - loss: 0.0538 - mean_absolute_error: 0.1709 - val_loss: 0.0510 - val_mean_absolute_error: 0.1564\n",
      "Epoch 2/6\n",
      "3784/3784 [==============================] - 12s 3ms/step - loss: 0.0490 - mean_absolute_error: 0.1698 - val_loss: 0.0493 - val_mean_absolute_error: 0.1598\n",
      "Epoch 3/6\n",
      "3784/3784 [==============================] - 12s 3ms/step - loss: 0.0490 - mean_absolute_error: 0.1698 - val_loss: 0.0544 - val_mean_absolute_error: 0.2001\n",
      "Epoch 4/6\n",
      "3784/3784 [==============================] - 12s 3ms/step - loss: 0.0490 - mean_absolute_error: 0.1699 - val_loss: 0.0484 - val_mean_absolute_error: 0.1718\n",
      "Epoch 5/6\n",
      "3784/3784 [==============================] - 12s 3ms/step - loss: 0.0490 - mean_absolute_error: 0.1696 - val_loss: 0.0494 - val_mean_absolute_error: 0.1801\n",
      "Epoch 6/6\n",
      "3784/3784 [==============================] - 12s 3ms/step - loss: 0.0489 - mean_absolute_error: 0.1697 - val_loss: 0.0483 - val_mean_absolute_error: 0.1691\n"
     ]
    },
    {
     "data": {
      "text/plain": [
       "<tensorflow.python.keras.callbacks.History at 0x21d61d30790>"
      ]
     },
     "execution_count": 14,
     "metadata": {},
     "output_type": "execute_result"
    }
   ],
   "source": [
    "early = EarlyStopping(monitor='val_loss', patience=5)\n",
    "tb_callback = tf.keras.callbacks.TensorBoard(log_dir = \"logs_single_run/ohneDO\",histogram_freq=1)\n",
    "\n",
    "KNN.fit(x=model.x_norm[0], \n",
    "        y=model.y_norm[0], \n",
    "        epochs=6,\n",
    "        validation_data=(model.x_norm[1], model.y_norm[1]), \n",
    "        callbacks=[\n",
    "              early,\n",
    "              tb_callback  # log metrics\n",
    "                        ],\n",
    "       )"
   ]
  },
  {
   "cell_type": "code",
   "execution_count": 10,
   "id": "c253fadb",
   "metadata": {},
   "outputs": [
    {
     "data": {
      "text/html": [
       "\n",
       "      <iframe id=\"tensorboard-frame-e6df4edd80b11841\" width=\"100%\" height=\"800\" frameborder=\"0\">\n",
       "      </iframe>\n",
       "      <script>\n",
       "        (function() {\n",
       "          const frame = document.getElementById(\"tensorboard-frame-e6df4edd80b11841\");\n",
       "          const url = new URL(\"/\", window.location);\n",
       "          const port = 6006;\n",
       "          if (port) {\n",
       "            url.port = port;\n",
       "          }\n",
       "          frame.src = url;\n",
       "        })();\n",
       "      </script>\n",
       "    "
      ],
      "text/plain": [
       "<IPython.core.display.HTML object>"
      ]
     },
     "metadata": {},
     "output_type": "display_data"
    }
   ],
   "source": [
    "%tensorboard --port 6006 --logdir logs_single4"
   ]
  },
  {
   "cell_type": "markdown",
   "id": "3b5c73b0",
   "metadata": {
    "id": "Gi4PaRm39of2",
    "tags": []
   },
   "source": [
    "A brief overview of the visualizations created in this example and the dashboards (tabs in top navigation bar) where they can be found:\n",
    "\n",
    "* **Scalars** show how the loss and metrics change with every epoch. You can use them to also track training speed, learning rate, and other scalar values. Scalars can be found in the **Time Series** or **Scalars** dashboards.\n",
    "* **Graphs** help you visualize your model. In this case, the Keras graph of layers is shown which can help you ensure it is built correctly. Graphs can be found in the **Graphs** dashboard.\n",
    "* **Histograms** and **Distributions** show the distribution of a Tensor over time. This can be useful to visualize weights and biases and verify that they are changing in an expected way. Histograms can be found in the **Time Series** or **Histograms** dashboards. Distributions can be found in the **Distributions** dashboard.\n",
    "\n",
    "Additional TensorBoard dashboards are automatically enabled when you log other types of data. For example, the Keras TensorBoard callback lets you log images and embeddings as well. You can see what other dashboards are available in TensorBoard by clicking on the \"inactive\" dropdown towards the top right."
   ]
  },
  {
   "cell_type": "markdown",
   "id": "8f7b4ee1",
   "metadata": {},
   "source": [
    "\n",
    "\n",
    "The left pane of the dashboard provides filtering capabilities that are active across all the views in the HParams dashboard:\n",
    "\n",
    "    Filter which hyperparameters/metrics are shown in the dashboard\n",
    "    Filter which hyperparameter/metrics values are shown in the dashboard\n",
    "    Filter on run status (running, success, ...)\n",
    "    Sort by hyperparameter/metric in the table view\n",
    "    Number of session groups to show (useful for performance when there are many experiments)\n",
    "\n"
   ]
  },
  {
   "cell_type": "markdown",
   "id": "4a6918de",
   "metadata": {},
   "source": [
    "he HParams dashboard has three different views, with various useful information:\n",
    "\n",
    "    The Table View lists the runs, their hyperparameters, and their metrics.\n",
    "    The Parallel Coordinates View shows each run as a line going through an axis for each hyperparemeter and metric. Click and drag the mouse on any axis to mark a region which will highlight only the runs that pass through it. This can be useful for identifying which groups of hyperparameters are most important. The axes themselves can be re-ordered by dragging them.\n",
    "    The Scatter Plot View shows plots comparing each hyperparameter/metric with each metric. This can help identify correlations. Click and drag to select a region in a specific plot and highlight those sessions across the other plots.\n",
    "\n",
    "A table row, a parallel coordinates line, and a scatter plot market can be clicked to see a plot of the metrics as a function of training steps for that session (although in this tutorial only one step is used for each run)."
   ]
  }
 ],
 "metadata": {
  "kernelspec": {
   "display_name": "Python 3 (ipykernel)",
   "language": "python",
   "name": "python3"
  },
  "language_info": {
   "codemirror_mode": {
    "name": "ipython",
    "version": 3
   },
   "file_extension": ".py",
   "mimetype": "text/x-python",
   "name": "python",
   "nbconvert_exporter": "python",
   "pygments_lexer": "ipython3",
   "version": "3.9.16"
  },
  "widgets": {
   "application/vnd.jupyter.widget-state+json": {
    "state": {},
    "version_major": 2,
    "version_minor": 0
   }
  }
 },
 "nbformat": 4,
 "nbformat_minor": 5
}
