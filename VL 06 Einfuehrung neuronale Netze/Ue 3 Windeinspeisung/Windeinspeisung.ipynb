{
 "cells": [
  {
   "cell_type": "markdown",
   "id": "2b623cc1",
   "metadata": {},
   "source": [
    "# Modellierung Windeinspeisung"
   ]
  },
  {
   "cell_type": "markdown",
   "id": "7010aeea",
   "metadata": {
    "tags": []
   },
   "source": [
    "## Pakete laden"
   ]
  },
  {
   "cell_type": "code",
   "execution_count": 1,
   "id": "e3889646",
   "metadata": {
    "tags": []
   },
   "outputs": [
    {
     "name": "stdout",
     "output_type": "stream",
     "text": [
      "Warning: Cannot change to a different GUI toolkit: widget. Using qt5 instead.\n"
     ]
    }
   ],
   "source": [
    "# Laden von notwendigen Paketen\n",
    "import pandas as pd\n",
    "import numpy as np\n",
    "import datetime as dt\n",
    "import matplotlib as mpl\n",
    "import matplotlib.pyplot as plt\n",
    "%matplotlib widget\n",
    "import seaborn as sns\n",
    "from sklearn import preprocessing\n",
    "from sklearn.decomposition import PCA\n",
    "from statsmodels import api as sm\n",
    "import statsmodels.formula.api as smf\n",
    "\n",
    "\n",
    "#standardeinstellungen\n",
    "plt.rcParams['axes.xmargin'] = 0\n",
    "pd.set_option('display.precision',2)\n",
    "np.set_printoptions(precision=3)"
   ]
  },
  {
   "cell_type": "markdown",
   "id": "626acab2",
   "metadata": {
    "tags": []
   },
   "source": [
    "## Daten einladen"
   ]
  },
  {
   "cell_type": "markdown",
   "id": "958231b5",
   "metadata": {
    "tags": []
   },
   "source": [
    "Im Folgenden werden Realdaten einer Windkraftanlage mit einzelnen Sensoren geladen.\n",
    "Ziel der Untersuchung ist die Nachbildung der Kennlinie und der daraus resultierenden Einspeisung in Abhängigkeit der Umgebungs- und Zustandsvariablen.\n",
    "\n",
    "Die Daten werden in dem dataframe wind zusammengefasst:<br>\n",
    "<img src=\"images/Winddaten.png\" alt=\"multi\" width=\"300\" >"
   ]
  },
  {
   "cell_type": "code",
   "execution_count": 2,
   "id": "95f470d3",
   "metadata": {
    "tags": []
   },
   "outputs": [
    {
     "name": "stdout",
     "output_type": "stream",
     "text": [
      "<class 'pandas.core.frame.DataFrame'>\n",
      "Index: 210095 entries, 2013-01-01 00:00:00+01:00 to 2016-12-31 23:50:00+01:00\n",
      "Data columns (total 22 columns):\n",
      " #   Column             Non-Null Count   Dtype  \n",
      "---  ------             --------------   -----  \n",
      " 0   Wind_turbine_name  210095 non-null  object \n",
      " 1   Pitch              209231 non-null  float64\n",
      " 2   Rspeed             209231 non-null  float64\n",
      " 3   Gspeed             209231 non-null  float64\n",
      " 4   S_avg              209231 non-null  float64\n",
      " 5   S_min              209231 non-null  float64\n",
      " 6   S_max              209231 non-null  float64\n",
      " 7   S_std              209231 non-null  float64\n",
      " 8   P_avg              209231 non-null  float64\n",
      " 9   P_min              209231 non-null  float64\n",
      " 10  P_max              209231 non-null  float64\n",
      " 11  P_std              209231 non-null  float64\n",
      " 12  Q_avg              209231 non-null  float64\n",
      " 13  Ws_avg             209231 non-null  float64\n",
      " 14  Ws_min             209231 non-null  float64\n",
      " 15  Ws_max             209231 non-null  float64\n",
      " 16  Ws_std             209231 non-null  float64\n",
      " 17  Wdir               201867 non-null  float64\n",
      " 18  Nadir              201867 non-null  float64\n",
      " 19  Va_avg             209231 non-null  float64\n",
      " 20  Va_std             209231 non-null  float64\n",
      " 21  Temp               209231 non-null  float64\n",
      "dtypes: float64(21), object(1)\n",
      "memory usage: 36.9+ MB\n"
     ]
    }
   ],
   "source": [
    "wind = pd.read_excel('Daten Wind Turbine.xlsb',sheet_name='Import',index_col=1,parse_dates=[1],engine='pyxlsb')\n",
    "wind.info()\n",
    "wind.drop(columns = \"Wind_turbine_name\",inplace=True)"
   ]
  },
  {
   "cell_type": "markdown",
   "id": "38d883c0",
   "metadata": {},
   "source": [
    "Überprüfung des Datentyps des Index"
   ]
  },
  {
   "cell_type": "code",
   "execution_count": 3,
   "id": "59da00a0",
   "metadata": {
    "tags": []
   },
   "outputs": [
    {
     "name": "stdout",
     "output_type": "stream",
     "text": [
      "object\n",
      "datetime64[ns, UTC]\n"
     ]
    }
   ],
   "source": [
    "print(wind.index.dtype)\n",
    "# Das Datum wurde beim Einlesen nicht richtig erkannt (Datentyp O = Objekt)\n",
    "# zweiter Versuch Datum parsen mit Umwandlung des Zeitformates inkl. Zeitumstellung in UCT-Zeit \n",
    "wind.index = pd.to_datetime(wind.index,utc = True)\n",
    "print(wind.index.dtype)"
   ]
  },
  {
   "cell_type": "markdown",
   "id": "6d4655eb",
   "metadata": {},
   "source": [
    "Fehldaten ausschließen"
   ]
  },
  {
   "cell_type": "code",
   "execution_count": 4,
   "id": "0f33c6ab",
   "metadata": {
    "tags": []
   },
   "outputs": [
    {
     "name": "stdout",
     "output_type": "stream",
     "text": [
      "Pitch      864\n",
      "Rspeed     864\n",
      "Gspeed     864\n",
      "S_avg      864\n",
      "S_min      864\n",
      "S_max      864\n",
      "S_std      864\n",
      "P_avg      864\n",
      "P_min      864\n",
      "P_max      864\n",
      "P_std      864\n",
      "Q_avg      864\n",
      "Ws_avg     864\n",
      "Ws_min     864\n",
      "Ws_max     864\n",
      "Ws_std     864\n",
      "Wdir      8228\n",
      "Nadir     8228\n",
      "Va_avg     864\n",
      "Va_std     864\n",
      "Temp       864\n",
      "dtype: int64\n"
     ]
    },
    {
     "data": {
      "text/html": [
       "<div>\n",
       "<style scoped>\n",
       "    .dataframe tbody tr th:only-of-type {\n",
       "        vertical-align: middle;\n",
       "    }\n",
       "\n",
       "    .dataframe tbody tr th {\n",
       "        vertical-align: top;\n",
       "    }\n",
       "\n",
       "    .dataframe thead th {\n",
       "        text-align: right;\n",
       "    }\n",
       "</style>\n",
       "<table border=\"1\" class=\"dataframe\">\n",
       "  <thead>\n",
       "    <tr style=\"text-align: right;\">\n",
       "      <th></th>\n",
       "      <th>Pitch</th>\n",
       "      <th>Rspeed</th>\n",
       "      <th>Gspeed</th>\n",
       "      <th>S_avg</th>\n",
       "      <th>S_min</th>\n",
       "      <th>S_max</th>\n",
       "      <th>S_std</th>\n",
       "      <th>P_avg</th>\n",
       "      <th>P_min</th>\n",
       "      <th>P_max</th>\n",
       "      <th>P_std</th>\n",
       "      <th>Q_avg</th>\n",
       "      <th>Ws_avg</th>\n",
       "      <th>Ws_min</th>\n",
       "      <th>Ws_max</th>\n",
       "      <th>Ws_std</th>\n",
       "      <th>Wdir</th>\n",
       "      <th>Nadir</th>\n",
       "      <th>Va_avg</th>\n",
       "      <th>Va_std</th>\n",
       "      <th>Temp</th>\n",
       "    </tr>\n",
       "    <tr>\n",
       "      <th>Date_time</th>\n",
       "      <th></th>\n",
       "      <th></th>\n",
       "      <th></th>\n",
       "      <th></th>\n",
       "      <th></th>\n",
       "      <th></th>\n",
       "      <th></th>\n",
       "      <th></th>\n",
       "      <th></th>\n",
       "      <th></th>\n",
       "      <th></th>\n",
       "      <th></th>\n",
       "      <th></th>\n",
       "      <th></th>\n",
       "      <th></th>\n",
       "      <th></th>\n",
       "      <th></th>\n",
       "      <th></th>\n",
       "      <th></th>\n",
       "      <th></th>\n",
       "      <th></th>\n",
       "    </tr>\n",
       "  </thead>\n",
       "  <tbody>\n",
       "    <tr>\n",
       "      <th>2013-04-03 10:10:00+00:00</th>\n",
       "      <td>NaN</td>\n",
       "      <td>NaN</td>\n",
       "      <td>NaN</td>\n",
       "      <td>NaN</td>\n",
       "      <td>NaN</td>\n",
       "      <td>NaN</td>\n",
       "      <td>NaN</td>\n",
       "      <td>NaN</td>\n",
       "      <td>NaN</td>\n",
       "      <td>NaN</td>\n",
       "      <td>NaN</td>\n",
       "      <td>NaN</td>\n",
       "      <td>NaN</td>\n",
       "      <td>NaN</td>\n",
       "      <td>NaN</td>\n",
       "      <td>NaN</td>\n",
       "      <td>NaN</td>\n",
       "      <td>NaN</td>\n",
       "      <td>NaN</td>\n",
       "      <td>NaN</td>\n",
       "      <td>NaN</td>\n",
       "    </tr>\n",
       "    <tr>\n",
       "      <th>2013-04-03 10:20:00+00:00</th>\n",
       "      <td>NaN</td>\n",
       "      <td>NaN</td>\n",
       "      <td>NaN</td>\n",
       "      <td>NaN</td>\n",
       "      <td>NaN</td>\n",
       "      <td>NaN</td>\n",
       "      <td>NaN</td>\n",
       "      <td>NaN</td>\n",
       "      <td>NaN</td>\n",
       "      <td>NaN</td>\n",
       "      <td>NaN</td>\n",
       "      <td>NaN</td>\n",
       "      <td>NaN</td>\n",
       "      <td>NaN</td>\n",
       "      <td>NaN</td>\n",
       "      <td>NaN</td>\n",
       "      <td>NaN</td>\n",
       "      <td>NaN</td>\n",
       "      <td>NaN</td>\n",
       "      <td>NaN</td>\n",
       "      <td>NaN</td>\n",
       "    </tr>\n",
       "    <tr>\n",
       "      <th>2013-04-03 10:30:00+00:00</th>\n",
       "      <td>NaN</td>\n",
       "      <td>NaN</td>\n",
       "      <td>NaN</td>\n",
       "      <td>NaN</td>\n",
       "      <td>NaN</td>\n",
       "      <td>NaN</td>\n",
       "      <td>NaN</td>\n",
       "      <td>NaN</td>\n",
       "      <td>NaN</td>\n",
       "      <td>NaN</td>\n",
       "      <td>NaN</td>\n",
       "      <td>NaN</td>\n",
       "      <td>NaN</td>\n",
       "      <td>NaN</td>\n",
       "      <td>NaN</td>\n",
       "      <td>NaN</td>\n",
       "      <td>NaN</td>\n",
       "      <td>NaN</td>\n",
       "      <td>NaN</td>\n",
       "      <td>NaN</td>\n",
       "      <td>NaN</td>\n",
       "    </tr>\n",
       "    <tr>\n",
       "      <th>2013-04-03 10:40:00+00:00</th>\n",
       "      <td>NaN</td>\n",
       "      <td>NaN</td>\n",
       "      <td>NaN</td>\n",
       "      <td>NaN</td>\n",
       "      <td>NaN</td>\n",
       "      <td>NaN</td>\n",
       "      <td>NaN</td>\n",
       "      <td>NaN</td>\n",
       "      <td>NaN</td>\n",
       "      <td>NaN</td>\n",
       "      <td>NaN</td>\n",
       "      <td>NaN</td>\n",
       "      <td>NaN</td>\n",
       "      <td>NaN</td>\n",
       "      <td>NaN</td>\n",
       "      <td>NaN</td>\n",
       "      <td>NaN</td>\n",
       "      <td>NaN</td>\n",
       "      <td>NaN</td>\n",
       "      <td>NaN</td>\n",
       "      <td>NaN</td>\n",
       "    </tr>\n",
       "    <tr>\n",
       "      <th>2013-04-03 10:50:00+00:00</th>\n",
       "      <td>NaN</td>\n",
       "      <td>NaN</td>\n",
       "      <td>NaN</td>\n",
       "      <td>NaN</td>\n",
       "      <td>NaN</td>\n",
       "      <td>NaN</td>\n",
       "      <td>NaN</td>\n",
       "      <td>NaN</td>\n",
       "      <td>NaN</td>\n",
       "      <td>NaN</td>\n",
       "      <td>NaN</td>\n",
       "      <td>NaN</td>\n",
       "      <td>NaN</td>\n",
       "      <td>NaN</td>\n",
       "      <td>NaN</td>\n",
       "      <td>NaN</td>\n",
       "      <td>NaN</td>\n",
       "      <td>NaN</td>\n",
       "      <td>NaN</td>\n",
       "      <td>NaN</td>\n",
       "      <td>NaN</td>\n",
       "    </tr>\n",
       "  </tbody>\n",
       "</table>\n",
       "</div>"
      ],
      "text/plain": [
       "                           Pitch  Rspeed  Gspeed  ...  Va_avg  Va_std  Temp\n",
       "Date_time                                         ...                      \n",
       "2013-04-03 10:10:00+00:00    NaN     NaN     NaN  ...     NaN     NaN   NaN\n",
       "2013-04-03 10:20:00+00:00    NaN     NaN     NaN  ...     NaN     NaN   NaN\n",
       "2013-04-03 10:30:00+00:00    NaN     NaN     NaN  ...     NaN     NaN   NaN\n",
       "2013-04-03 10:40:00+00:00    NaN     NaN     NaN  ...     NaN     NaN   NaN\n",
       "2013-04-03 10:50:00+00:00    NaN     NaN     NaN  ...     NaN     NaN   NaN\n",
       "\n",
       "[5 rows x 21 columns]"
      ]
     },
     "execution_count": 4,
     "metadata": {},
     "output_type": "execute_result"
    }
   ],
   "source": [
    "print(np.isnan(wind).sum())\n",
    "index = np.nonzero(wind[\"S_avg\"].isnull().values)\n",
    "wind.iloc[index[0]].head()"
   ]
  },
  {
   "cell_type": "code",
   "execution_count": 5,
   "id": "44cf141c",
   "metadata": {
    "tags": []
   },
   "outputs": [],
   "source": [
    "wind.dropna(inplace =True)"
   ]
  },
  {
   "cell_type": "code",
   "execution_count": 6,
   "id": "a75a5b7d",
   "metadata": {
    "tags": []
   },
   "outputs": [
    {
     "data": {
      "text/html": [
       "<div>\n",
       "<style scoped>\n",
       "    .dataframe tbody tr th:only-of-type {\n",
       "        vertical-align: middle;\n",
       "    }\n",
       "\n",
       "    .dataframe tbody tr th {\n",
       "        vertical-align: top;\n",
       "    }\n",
       "\n",
       "    .dataframe thead th {\n",
       "        text-align: right;\n",
       "    }\n",
       "</style>\n",
       "<table border=\"1\" class=\"dataframe\">\n",
       "  <thead>\n",
       "    <tr style=\"text-align: right;\">\n",
       "      <th></th>\n",
       "      <th>Pitch</th>\n",
       "      <th>Rspeed</th>\n",
       "      <th>Gspeed</th>\n",
       "      <th>S_avg</th>\n",
       "      <th>S_min</th>\n",
       "      <th>S_max</th>\n",
       "      <th>S_std</th>\n",
       "      <th>P_avg</th>\n",
       "      <th>P_min</th>\n",
       "      <th>P_max</th>\n",
       "      <th>P_std</th>\n",
       "      <th>Q_avg</th>\n",
       "      <th>Ws_avg</th>\n",
       "      <th>Ws_min</th>\n",
       "      <th>Ws_max</th>\n",
       "      <th>Ws_std</th>\n",
       "      <th>Wdir</th>\n",
       "      <th>Nadir</th>\n",
       "      <th>Va_avg</th>\n",
       "      <th>Va_std</th>\n",
       "      <th>Temp</th>\n",
       "    </tr>\n",
       "    <tr>\n",
       "      <th>Date_time</th>\n",
       "      <th></th>\n",
       "      <th></th>\n",
       "      <th></th>\n",
       "      <th></th>\n",
       "      <th></th>\n",
       "      <th></th>\n",
       "      <th></th>\n",
       "      <th></th>\n",
       "      <th></th>\n",
       "      <th></th>\n",
       "      <th></th>\n",
       "      <th></th>\n",
       "      <th></th>\n",
       "      <th></th>\n",
       "      <th></th>\n",
       "      <th></th>\n",
       "      <th></th>\n",
       "      <th></th>\n",
       "      <th></th>\n",
       "      <th></th>\n",
       "      <th></th>\n",
       "    </tr>\n",
       "  </thead>\n",
       "  <tbody>\n",
       "    <tr>\n",
       "      <th>2012-12-31 23:00:00+00:00</th>\n",
       "      <td>-1.00</td>\n",
       "      <td>17.18</td>\n",
       "      <td>1800.99</td>\n",
       "      <td>1072.79</td>\n",
       "      <td>757.84</td>\n",
       "      <td>1399.74</td>\n",
       "      <td>116.39</td>\n",
       "      <td>1072.65</td>\n",
       "      <td>757.32</td>\n",
       "      <td>1399.74</td>\n",
       "      <td>116.47</td>\n",
       "      <td>14.49</td>\n",
       "      <td>8.96</td>\n",
       "      <td>6.48</td>\n",
       "      <td>11.26</td>\n",
       "      <td>0.81</td>\n",
       "      <td>180.25</td>\n",
       "      <td>176.44</td>\n",
       "      <td>3.78</td>\n",
       "      <td>7.31</td>\n",
       "      <td>5.09</td>\n",
       "    </tr>\n",
       "    <tr>\n",
       "      <th>2012-12-31 23:10:00+00:00</th>\n",
       "      <td>-1.00</td>\n",
       "      <td>17.17</td>\n",
       "      <td>1799.97</td>\n",
       "      <td>1061.75</td>\n",
       "      <td>661.90</td>\n",
       "      <td>1398.57</td>\n",
       "      <td>142.63</td>\n",
       "      <td>1061.43</td>\n",
       "      <td>660.95</td>\n",
       "      <td>1398.45</td>\n",
       "      <td>142.82</td>\n",
       "      <td>23.70</td>\n",
       "      <td>8.89</td>\n",
       "      <td>5.78</td>\n",
       "      <td>11.65</td>\n",
       "      <td>1.01</td>\n",
       "      <td>183.29</td>\n",
       "      <td>176.44</td>\n",
       "      <td>6.90</td>\n",
       "      <td>7.56</td>\n",
       "      <td>5.26</td>\n",
       "    </tr>\n",
       "    <tr>\n",
       "      <th>2012-12-31 23:20:00+00:00</th>\n",
       "      <td>-1.00</td>\n",
       "      <td>17.18</td>\n",
       "      <td>1801.19</td>\n",
       "      <td>1145.14</td>\n",
       "      <td>797.27</td>\n",
       "      <td>1529.85</td>\n",
       "      <td>162.52</td>\n",
       "      <td>1144.79</td>\n",
       "      <td>795.96</td>\n",
       "      <td>1529.84</td>\n",
       "      <td>162.69</td>\n",
       "      <td>25.48</td>\n",
       "      <td>9.19</td>\n",
       "      <td>6.10</td>\n",
       "      <td>11.33</td>\n",
       "      <td>1.01</td>\n",
       "      <td>185.08</td>\n",
       "      <td>176.44</td>\n",
       "      <td>8.63</td>\n",
       "      <td>7.49</td>\n",
       "      <td>5.56</td>\n",
       "    </tr>\n",
       "    <tr>\n",
       "      <th>2012-12-31 23:30:00+00:00</th>\n",
       "      <td>-1.00</td>\n",
       "      <td>17.18</td>\n",
       "      <td>1801.14</td>\n",
       "      <td>1184.32</td>\n",
       "      <td>764.87</td>\n",
       "      <td>1701.61</td>\n",
       "      <td>194.35</td>\n",
       "      <td>1183.98</td>\n",
       "      <td>763.56</td>\n",
       "      <td>1701.45</td>\n",
       "      <td>194.56</td>\n",
       "      <td>24.38</td>\n",
       "      <td>8.92</td>\n",
       "      <td>6.05</td>\n",
       "      <td>12.15</td>\n",
       "      <td>1.13</td>\n",
       "      <td>190.33</td>\n",
       "      <td>188.41</td>\n",
       "      <td>-2.60</td>\n",
       "      <td>12.38</td>\n",
       "      <td>5.70</td>\n",
       "    </tr>\n",
       "    <tr>\n",
       "      <th>2012-12-31 23:40:00+00:00</th>\n",
       "      <td>-0.98</td>\n",
       "      <td>17.18</td>\n",
       "      <td>1801.01</td>\n",
       "      <td>1317.69</td>\n",
       "      <td>819.66</td>\n",
       "      <td>1854.88</td>\n",
       "      <td>215.61</td>\n",
       "      <td>1317.55</td>\n",
       "      <td>818.96</td>\n",
       "      <td>1854.86</td>\n",
       "      <td>215.72</td>\n",
       "      <td>14.47</td>\n",
       "      <td>9.48</td>\n",
       "      <td>6.14</td>\n",
       "      <td>12.48</td>\n",
       "      <td>1.10</td>\n",
       "      <td>188.07</td>\n",
       "      <td>192.90</td>\n",
       "      <td>-4.78</td>\n",
       "      <td>9.61</td>\n",
       "      <td>5.82</td>\n",
       "    </tr>\n",
       "  </tbody>\n",
       "</table>\n",
       "</div>"
      ],
      "text/plain": [
       "                           Pitch  Rspeed   Gspeed  ...  Va_avg  Va_std  Temp\n",
       "Date_time                                          ...                      \n",
       "2012-12-31 23:00:00+00:00  -1.00   17.18  1800.99  ...    3.78    7.31  5.09\n",
       "2012-12-31 23:10:00+00:00  -1.00   17.17  1799.97  ...    6.90    7.56  5.26\n",
       "2012-12-31 23:20:00+00:00  -1.00   17.18  1801.19  ...    8.63    7.49  5.56\n",
       "2012-12-31 23:30:00+00:00  -1.00   17.18  1801.14  ...   -2.60   12.38  5.70\n",
       "2012-12-31 23:40:00+00:00  -0.98   17.18  1801.01  ...   -4.78    9.61  5.82\n",
       "\n",
       "[5 rows x 21 columns]"
      ]
     },
     "execution_count": 6,
     "metadata": {},
     "output_type": "execute_result"
    }
   ],
   "source": [
    "wind.head()"
   ]
  },
  {
   "cell_type": "markdown",
   "id": "d41a2675",
   "metadata": {},
   "source": [
    "## Deskritive Analyse"
   ]
  },
  {
   "cell_type": "markdown",
   "id": "d5c1c8ff",
   "metadata": {},
   "source": [
    "**Aufgabe:** deskriptive Analyse<br>\n",
    "- Versuchen Sie entlang der erzeugten Abbildungen abzuleiten, ob die zugeschalteten \"Einflussgrößen\" wichtig bzw. nicht wichtig für die Beschreibung der Einspeisekennlinie sind\n",
    "- Leiten sie die jeweilige Wirkungsweise auf die Einspeisekurve ab"
   ]
  },
  {
   "cell_type": "markdown",
   "id": "24013f54",
   "metadata": {},
   "source": [
    "### wesentliche Kenngrößen"
   ]
  },
  {
   "cell_type": "markdown",
   "id": "8afeffb9",
   "metadata": {},
   "source": [
    "wesentliche Kennzahlen"
   ]
  },
  {
   "cell_type": "code",
   "execution_count": 7,
   "id": "97e23f26",
   "metadata": {
    "tags": []
   },
   "outputs": [
    {
     "data": {
      "text/html": [
       "<div>\n",
       "<style scoped>\n",
       "    .dataframe tbody tr th:only-of-type {\n",
       "        vertical-align: middle;\n",
       "    }\n",
       "\n",
       "    .dataframe tbody tr th {\n",
       "        vertical-align: top;\n",
       "    }\n",
       "\n",
       "    .dataframe thead th {\n",
       "        text-align: right;\n",
       "    }\n",
       "</style>\n",
       "<table border=\"1\" class=\"dataframe\">\n",
       "  <thead>\n",
       "    <tr style=\"text-align: right;\">\n",
       "      <th></th>\n",
       "      <th>count</th>\n",
       "      <th>mean</th>\n",
       "      <th>std</th>\n",
       "      <th>min</th>\n",
       "      <th>25%</th>\n",
       "      <th>50%</th>\n",
       "      <th>75%</th>\n",
       "      <th>max</th>\n",
       "    </tr>\n",
       "  </thead>\n",
       "  <tbody>\n",
       "    <tr>\n",
       "      <th>Pitch</th>\n",
       "      <td>201867.0</td>\n",
       "      <td>9.80</td>\n",
       "      <td>23.38</td>\n",
       "      <td>-3.71e+01</td>\n",
       "      <td>-0.99</td>\n",
       "      <td>-0.97</td>\n",
       "      <td>0.02</td>\n",
       "      <td>262.61</td>\n",
       "    </tr>\n",
       "    <tr>\n",
       "      <th>Rspeed</th>\n",
       "      <td>201867.0</td>\n",
       "      <td>10.97</td>\n",
       "      <td>5.57</td>\n",
       "      <td>0.00e+00</td>\n",
       "      <td>9.24</td>\n",
       "      <td>12.01</td>\n",
       "      <td>15.65</td>\n",
       "      <td>17.22</td>\n",
       "    </tr>\n",
       "    <tr>\n",
       "      <th>Gspeed</th>\n",
       "      <td>201867.0</td>\n",
       "      <td>1152.08</td>\n",
       "      <td>583.38</td>\n",
       "      <td>-5.75e+02</td>\n",
       "      <td>972.07</td>\n",
       "      <td>1262.45</td>\n",
       "      <td>1642.20</td>\n",
       "      <td>1804.95</td>\n",
       "    </tr>\n",
       "    <tr>\n",
       "      <th>S_avg</th>\n",
       "      <td>201867.0</td>\n",
       "      <td>386.31</td>\n",
       "      <td>449.35</td>\n",
       "      <td>0.00e+00</td>\n",
       "      <td>51.58</td>\n",
       "      <td>220.63</td>\n",
       "      <td>561.55</td>\n",
       "      <td>2064.26</td>\n",
       "    </tr>\n",
       "    <tr>\n",
       "      <th>S_min</th>\n",
       "      <td>201867.0</td>\n",
       "      <td>228.73</td>\n",
       "      <td>278.18</td>\n",
       "      <td>0.00e+00</td>\n",
       "      <td>4.30</td>\n",
       "      <td>127.16</td>\n",
       "      <td>348.54</td>\n",
       "      <td>2029.73</td>\n",
       "    </tr>\n",
       "    <tr>\n",
       "      <th>S_max</th>\n",
       "      <td>201867.0</td>\n",
       "      <td>572.71</td>\n",
       "      <td>629.50</td>\n",
       "      <td>0.00e+00</td>\n",
       "      <td>93.31</td>\n",
       "      <td>324.87</td>\n",
       "      <td>873.65</td>\n",
       "      <td>2307.04</td>\n",
       "    </tr>\n",
       "    <tr>\n",
       "      <th>S_std</th>\n",
       "      <td>201867.0</td>\n",
       "      <td>80.63</td>\n",
       "      <td>100.01</td>\n",
       "      <td>0.00e+00</td>\n",
       "      <td>10.80</td>\n",
       "      <td>39.25</td>\n",
       "      <td>111.27</td>\n",
       "      <td>1013.35</td>\n",
       "    </tr>\n",
       "    <tr>\n",
       "      <th>P_avg</th>\n",
       "      <td>201867.0</td>\n",
       "      <td>383.99</td>\n",
       "      <td>450.57</td>\n",
       "      <td>-1.82e+01</td>\n",
       "      <td>42.51</td>\n",
       "      <td>219.41</td>\n",
       "      <td>561.17</td>\n",
       "      <td>2051.38</td>\n",
       "    </tr>\n",
       "    <tr>\n",
       "      <th>P_min</th>\n",
       "      <td>201867.0</td>\n",
       "      <td>223.95</td>\n",
       "      <td>280.59</td>\n",
       "      <td>-9.36e+01</td>\n",
       "      <td>-0.15</td>\n",
       "      <td>124.90</td>\n",
       "      <td>347.22</td>\n",
       "      <td>2029.61</td>\n",
       "    </tr>\n",
       "    <tr>\n",
       "      <th>P_max</th>\n",
       "      <td>201867.0</td>\n",
       "      <td>570.76</td>\n",
       "      <td>630.78</td>\n",
       "      <td>-1.45e+01</td>\n",
       "      <td>86.99</td>\n",
       "      <td>323.73</td>\n",
       "      <td>873.60</td>\n",
       "      <td>2306.51</td>\n",
       "    </tr>\n",
       "    <tr>\n",
       "      <th>P_std</th>\n",
       "      <td>201867.0</td>\n",
       "      <td>81.09</td>\n",
       "      <td>100.09</td>\n",
       "      <td>0.00e+00</td>\n",
       "      <td>11.35</td>\n",
       "      <td>39.92</td>\n",
       "      <td>111.74</td>\n",
       "      <td>1019.23</td>\n",
       "    </tr>\n",
       "    <tr>\n",
       "      <th>Q_avg</th>\n",
       "      <td>201867.0</td>\n",
       "      <td>15.52</td>\n",
       "      <td>16.78</td>\n",
       "      <td>-1.97e+02</td>\n",
       "      <td>2.29</td>\n",
       "      <td>13.90</td>\n",
       "      <td>21.86</td>\n",
       "      <td>249.64</td>\n",
       "    </tr>\n",
       "    <tr>\n",
       "      <th>Ws_avg</th>\n",
       "      <td>201867.0</td>\n",
       "      <td>5.69</td>\n",
       "      <td>2.56</td>\n",
       "      <td>0.00e+00</td>\n",
       "      <td>4.30</td>\n",
       "      <td>5.68</td>\n",
       "      <td>7.03</td>\n",
       "      <td>20.48</td>\n",
       "    </tr>\n",
       "    <tr>\n",
       "      <th>Ws_min</th>\n",
       "      <td>201867.0</td>\n",
       "      <td>3.82</td>\n",
       "      <td>1.86</td>\n",
       "      <td>0.00e+00</td>\n",
       "      <td>3.03</td>\n",
       "      <td>4.08</td>\n",
       "      <td>4.94</td>\n",
       "      <td>13.29</td>\n",
       "    </tr>\n",
       "    <tr>\n",
       "      <th>Ws_max</th>\n",
       "      <td>201867.0</td>\n",
       "      <td>7.83</td>\n",
       "      <td>3.50</td>\n",
       "      <td>0.00e+00</td>\n",
       "      <td>5.74</td>\n",
       "      <td>7.56</td>\n",
       "      <td>9.62</td>\n",
       "      <td>31.28</td>\n",
       "    </tr>\n",
       "    <tr>\n",
       "      <th>Ws_std</th>\n",
       "      <td>201867.0</td>\n",
       "      <td>0.75</td>\n",
       "      <td>0.42</td>\n",
       "      <td>0.00e+00</td>\n",
       "      <td>0.47</td>\n",
       "      <td>0.66</td>\n",
       "      <td>0.93</td>\n",
       "      <td>7.55</td>\n",
       "    </tr>\n",
       "    <tr>\n",
       "      <th>Wdir</th>\n",
       "      <td>201867.0</td>\n",
       "      <td>179.03</td>\n",
       "      <td>95.11</td>\n",
       "      <td>0.00e+00</td>\n",
       "      <td>89.62</td>\n",
       "      <td>196.55</td>\n",
       "      <td>249.70</td>\n",
       "      <td>360.00</td>\n",
       "    </tr>\n",
       "    <tr>\n",
       "      <th>Nadir</th>\n",
       "      <td>201867.0</td>\n",
       "      <td>179.39</td>\n",
       "      <td>95.32</td>\n",
       "      <td>0.00e+00</td>\n",
       "      <td>88.63</td>\n",
       "      <td>197.41</td>\n",
       "      <td>250.69</td>\n",
       "      <td>360.00</td>\n",
       "    </tr>\n",
       "    <tr>\n",
       "      <th>Va_avg</th>\n",
       "      <td>201867.0</td>\n",
       "      <td>0.25</td>\n",
       "      <td>25.32</td>\n",
       "      <td>-1.80e+02</td>\n",
       "      <td>-5.85</td>\n",
       "      <td>-0.28</td>\n",
       "      <td>5.61</td>\n",
       "      <td>179.89</td>\n",
       "    </tr>\n",
       "    <tr>\n",
       "      <th>Va_std</th>\n",
       "      <td>201867.0</td>\n",
       "      <td>25.15</td>\n",
       "      <td>63.75</td>\n",
       "      <td>1.00e-02</td>\n",
       "      <td>9.46</td>\n",
       "      <td>11.49</td>\n",
       "      <td>14.69</td>\n",
       "      <td>1826.63</td>\n",
       "    </tr>\n",
       "    <tr>\n",
       "      <th>Temp</th>\n",
       "      <td>201867.0</td>\n",
       "      <td>11.55</td>\n",
       "      <td>7.51</td>\n",
       "      <td>-7.05e+00</td>\n",
       "      <td>5.62</td>\n",
       "      <td>11.20</td>\n",
       "      <td>16.70</td>\n",
       "      <td>38.30</td>\n",
       "    </tr>\n",
       "  </tbody>\n",
       "</table>\n",
       "</div>"
      ],
      "text/plain": [
       "           count     mean     std       min     25%      50%      75%      max\n",
       "Pitch   201867.0     9.80   23.38 -3.71e+01   -0.99    -0.97     0.02   262.61\n",
       "Rspeed  201867.0    10.97    5.57  0.00e+00    9.24    12.01    15.65    17.22\n",
       "Gspeed  201867.0  1152.08  583.38 -5.75e+02  972.07  1262.45  1642.20  1804.95\n",
       "S_avg   201867.0   386.31  449.35  0.00e+00   51.58   220.63   561.55  2064.26\n",
       "S_min   201867.0   228.73  278.18  0.00e+00    4.30   127.16   348.54  2029.73\n",
       "S_max   201867.0   572.71  629.50  0.00e+00   93.31   324.87   873.65  2307.04\n",
       "S_std   201867.0    80.63  100.01  0.00e+00   10.80    39.25   111.27  1013.35\n",
       "P_avg   201867.0   383.99  450.57 -1.82e+01   42.51   219.41   561.17  2051.38\n",
       "P_min   201867.0   223.95  280.59 -9.36e+01   -0.15   124.90   347.22  2029.61\n",
       "P_max   201867.0   570.76  630.78 -1.45e+01   86.99   323.73   873.60  2306.51\n",
       "P_std   201867.0    81.09  100.09  0.00e+00   11.35    39.92   111.74  1019.23\n",
       "Q_avg   201867.0    15.52   16.78 -1.97e+02    2.29    13.90    21.86   249.64\n",
       "Ws_avg  201867.0     5.69    2.56  0.00e+00    4.30     5.68     7.03    20.48\n",
       "Ws_min  201867.0     3.82    1.86  0.00e+00    3.03     4.08     4.94    13.29\n",
       "Ws_max  201867.0     7.83    3.50  0.00e+00    5.74     7.56     9.62    31.28\n",
       "Ws_std  201867.0     0.75    0.42  0.00e+00    0.47     0.66     0.93     7.55\n",
       "Wdir    201867.0   179.03   95.11  0.00e+00   89.62   196.55   249.70   360.00\n",
       "Nadir   201867.0   179.39   95.32  0.00e+00   88.63   197.41   250.69   360.00\n",
       "Va_avg  201867.0     0.25   25.32 -1.80e+02   -5.85    -0.28     5.61   179.89\n",
       "Va_std  201867.0    25.15   63.75  1.00e-02    9.46    11.49    14.69  1826.63\n",
       "Temp    201867.0    11.55    7.51 -7.05e+00    5.62    11.20    16.70    38.30"
      ]
     },
     "execution_count": 7,
     "metadata": {},
     "output_type": "execute_result"
    }
   ],
   "source": [
    "stats = wind.describe().T\n",
    "stats"
   ]
  },
  {
   "cell_type": "markdown",
   "id": "f791e97f",
   "metadata": {},
   "source": [
    "### Boxplot der Daten"
   ]
  },
  {
   "cell_type": "code",
   "execution_count": 8,
   "id": "56620daa",
   "metadata": {
    "tags": []
   },
   "outputs": [],
   "source": [
    "# Zuordnung zur gruppe anhand der Maximalausprägung \n",
    "klasse = [0,50, 400, 3000]\n",
    "fig, axes =plt.subplots(nrows=1,ncols=3,**{'figsize': (14, 5)})\n",
    "for i in range(0,3):\n",
    "    lab=np.nonzero((stats[\"max\"].values>klasse[i])&(stats[\"max\"].values<klasse[i+1]))\n",
    "    sns.boxplot(data=wind.iloc[:,lab[0]],ax=axes[i]);"
   ]
  },
  {
   "cell_type": "markdown",
   "id": "9390292c",
   "metadata": {},
   "source": [
    "### Windgeschwindigkeit vs. Erzeugung und Bereinigung der Daten-Fehler"
   ]
  },
  {
   "cell_type": "code",
   "execution_count": 9,
   "id": "edeaf261",
   "metadata": {
    "tags": []
   },
   "outputs": [],
   "source": [
    "# Darstellung des Datensatzes\n",
    "fig, ax =plt.subplots(nrows=1,ncols=2,**{'figsize': (14, 5)})\n",
    "lin=ax[0].scatter(wind[\"Ws_avg\"],wind[\"S_avg\"]);\n",
    "ax[0].set(ylabel=\"Erzeugung [kW]\",xlabel=\"Windgeschwindigkeit [m/s]\",title =\"Orginalzeitreihe\");\n",
    "\n",
    "# Bereinigung um Datenfehler (obere Abweichung)\n",
    "raster = np.arange(5,12,.15)\n",
    "for i,j in enumerate(raster[:-1]):\n",
    "    zeig1,=np.nonzero((wind[\"Ws_avg\"].values>raster[i]) & (wind[\"Ws_avg\"].values<=raster[i+1]))\n",
    "    wind.iloc[zeig1][\"S_avg\"]\n",
    "    zeig2,=np.nonzero(wind.iloc[zeig1][\"S_avg\"].values>(200+(wind.iloc[zeig1][\"S_avg\"]).quantile(q=.98)))\n",
    "    if zeig2.size >0:\n",
    "        wind.drop(wind.index[zeig1[zeig2]],inplace=True)\n",
    "lin=ax[1].scatter(wind[\"Ws_avg\"],wind[\"S_avg\"]);\n",
    "ax[1].set(ylabel=\"Erzeugung [kW]\",xlabel=\"Windgeschwindigkeit [m/s]\",title=\"bereinigte Zeitreihe\");"
   ]
  },
  {
   "cell_type": "markdown",
   "id": "fde9560d",
   "metadata": {},
   "source": [
    "### Einfluss Anstellwinkel auf die Erzeugung"
   ]
  },
  {
   "cell_type": "markdown",
   "id": "a4305171",
   "metadata": {},
   "source": [
    "<img src=\"images/pitch.png\" alt=\"multi\" width=\"1200\" >"
   ]
  },
  {
   "cell_type": "markdown",
   "id": "cd9d88b6",
   "metadata": {},
   "source": [
    "Hintergrund:<br>\n",
    "- Bei sehr schwachem Wind (unter 2,5 m/s) produziert die  Windenergieanlage keinen elektrischen Strom: Der Wind ist zu schwach, um die Rotorwelle anzutreiben. Die Blätter sind in so genannter  Fahnenstellung (Pitchwinkel ≈ 90°) gedreht. Die Windenergieanlage steht  still oder dreht sehr langsam, was Trudelbetrieb genannt wird.\n",
    "- Bei normalem Wind (2,5 m/s bis 12 m/s) dreht die Windenergieanlage und  produziert Leistung, aber der Wind ist noch zu schwach, um die  Nennleistung der Anlage zu erreichen. Der Pitchwinkel ist 0°, die  Rotorblätter stehen im optimalen Arbeitspunkt. Von der Windleistung wird so viel wie möglich in mechanische Energie umgewandelt. Mit zunehmender Windgeschwindigkeit erhöht sich auch gleichermaßen die Drehzahl  („drehzahlvariabler Betrieb“), um die Schnelllaufzahl konstant und damit den Wirkungsgrad optimal zu halten.\n",
    "- Bei Starkwind (12 m/s bis  25 m/s) ist die angebotene Windleistung zu groß und die Anlage muss in  ihrer Leistungsabgabe begrenzt werden. Die Anlage wird dann „gepitcht“.  Der Pitchwinkel nimmt mit der Windgeschwindigkeit zu (von 0° bis circa  30 °) und die Auftriebskraft wird so beeinflusst, dass die  Leistungsabgabe der Windenergieanlage konstant bei Nennleistung bleibt.\n",
    "- Bei Sturm (ab 25 m/s) ist der Wind so stark, dass die Windenergieanlage  abgeschaltet werden muss, um eventuelle Schäden zu vermeiden. Der  Pitchwinkel ist nahezu 90°; die Blätter sind in Fahnenstellung.\n",
    "\n",
    "Die Verdrehung der Blätter wird durch das Pitch-System realisiert. Da es  für jedes Rotorblatt als selbständiges und unabhängiges System  ausgeführt ist, können sie als drei Primärbremsen angesehen werden. Für  das sichere Herunterfahren der Anlage aus allen Zuständen reicht das  Verstellen von nur einem Rotorblatt, das in die Fahnenposition (Position in Richtung des Windes) gebracht wird."
   ]
  },
  {
   "cell_type": "code",
   "execution_count": 10,
   "id": "aada1861",
   "metadata": {
    "tags": []
   },
   "outputs": [],
   "source": [
    "def scatter_create(raster,zin,xin,yin,ax):\n",
    "    lab=pd.Series(index=[*range(0,len(xin))],dtype=\"str\")\n",
    "    lab_order=list()\n",
    "    for i,j in enumerate(raster[:-1]):\n",
    "        zeig1,=np.nonzero((zin.values>raster[i]) & (zin.values<=raster[i+1]))\n",
    "        lab[zeig1]=str(raster[i])+'-'+str(raster[i+1])\n",
    "        lab_order.append(str(raster[i])+'-'+str(raster[i+1]))\n",
    "    ax.set(xlabel=xin._name,ylabel=yin._name, title=yin._name+' über '+xin._name+' groupby: '+zin._name)\n",
    "    g = sns.scatterplot(\n",
    "    x=xin.values, y=yin.values,\n",
    "    hue=lab,\n",
    "    hue_order=lab_order,ax=ax);"
   ]
  },
  {
   "cell_type": "markdown",
   "id": "6b0aa276",
   "metadata": {},
   "source": [
    "### Einfluss Pitchwinkel auf die Erzeugung"
   ]
  },
  {
   "cell_type": "code",
   "execution_count": 11,
   "id": "64aa8f51",
   "metadata": {
    "tags": []
   },
   "outputs": [],
   "source": [
    "fig, ax =plt.subplots(nrows=1,ncols=2,**{'figsize': (14, 5)})\n",
    "# Histogramm der Pitchwinkel\n",
    "lin=ax[0].hist(np.minimum(100,wind[\"Pitch\"]),bins=20)\n",
    "ax[0].set(xlabel='Pitch-Winkel°',ylabel='Anzahl',title = 'Histogramm Pitchwinkel');\n",
    "# Einfluss Pitchwinkel/ Windgeschwindigkeit vs. Einspeisung**<br>                \n",
    "raster =[-5, -1.5, 1, 5, 10, 15, 20, 30, 50, 300]\n",
    "scatter_create(raster,wind[\"Pitch\"],wind[\"Ws_avg\"],wind[\"S_avg\"],ax[1])"
   ]
  },
  {
   "cell_type": "markdown",
   "id": "118840dc",
   "metadata": {},
   "source": [
    "### Einfluss Turbulenz der Windgeschwindigkeit auf die Erzeugung"
   ]
  },
  {
   "cell_type": "code",
   "execution_count": 12,
   "id": "cb671626",
   "metadata": {
    "tags": []
   },
   "outputs": [],
   "source": [
    "fig, ax =plt.subplots(nrows=1,ncols=2,**{'figsize': (14, 5)})\n",
    "ax[0].scatter(wind[\"Ws_avg\"],wind[\"Ws_std\"]/wind[\"Ws_avg\"])\n",
    "ax[0].set(xlabel='Windgeschwindigkeit [m/s]',ylabel='Ws\\_std / WS\\_avg',title=\"Turbulenz über mittlere Windgeschwindigkeit\");\n",
    "\n",
    "raster =[-np.inf, 1, 1.25, 1.5, 2, 3, 4, 8]\n",
    "scatter_create(raster,wind[\"Ws_std\"],wind[\"Ws_avg\"],wind[\"S_avg\"],ax[1])"
   ]
  },
  {
   "cell_type": "markdown",
   "id": "12fc5f12",
   "metadata": {},
   "source": [
    "### Umgang mit Winkelangaben"
   ]
  },
  {
   "cell_type": "markdown",
   "id": "13cdc6b6",
   "metadata": {},
   "source": [
    "**Windgeschwindigkeit vs. Windrichtung**"
   ]
  },
  {
   "cell_type": "markdown",
   "id": "7537a1a9",
   "metadata": {},
   "source": [
    "**Einfluss der Windrichtung auf die Erzeugung**"
   ]
  },
  {
   "cell_type": "markdown",
   "id": "732e96a6",
   "metadata": {},
   "source": [
    "Erläuterung zum Feature-engineering: \n",
    "Die windrichtung wird in Grad auf dem Intervall [0-360] notiert.<br> \n",
    "Zwischen 0 und 360 liegt eine Sprungstelle, obwohl inhaltlich 1° und 360° nahezu indentische Windrichtungen sind. Das erlernen dieses Zusammenhangs ist für ein neuronales Netz möglich aber ressourcenaufwendig. Es erleichert dem neuronalem Netz die Verarbeitung, wenn ein feature-engineering so vorgenommen wird, dass die Features ohne Sprungstelle verarbeitet werden können.\n",
    "Dies wird durch eine vektorielle Schreibweise der Wingeschwindigkeit ermöglicht, wodurch der  Winkels mit der Geschwindigkeit (Betrag des Vektors) kombiniert wird. "
   ]
  },
  {
   "cell_type": "code",
   "execution_count": 13,
   "id": "fc00fcf6",
   "metadata": {
    "tags": []
   },
   "outputs": [],
   "source": [
    "fig, ax =plt.subplots(nrows=1,ncols=2,**{'figsize': (14, 7)})\n",
    "lin=ax[0].scatter(wind[\"Wdir\"],wind[\"Ws_avg\"]);\n",
    "ax[0].set(ylabel=\"Windgeschwindigkeit [m/s]\",xlabel=\"Windrichtung [Degr]\",title=\"Zusammenhang zwischen Windrichtung und Windgeschwindigkeit\");\n",
    "\n",
    "wind[\"Ws_avgx\"]=wind[\"Ws_avg\"]* np.cos(np.radians(wind[\"Wdir\"]))\n",
    "wind[\"Ws_avgy\"]=wind[\"Ws_avg\"]* np.sin(np.radians(wind[\"Wdir\"]))\n",
    "g = sns.scatterplot(\n",
    "    x = wind[\"Ws_avgx\"].values,\n",
    "    y = wind[\"Ws_avgy\"].values,\n",
    "    hue=wind[\"S_avg\"],ax=ax[1]\n",
    ");\n",
    "ax[1].set(xlabel=\"Ws_avgx\",ylabel=\"Ws_avgy\",title=\" Einfluss der Windrichtung auf die Erzeugung\") ;"
   ]
  },
  {
   "cell_type": "markdown",
   "id": "080a3767",
   "metadata": {},
   "source": [
    "**Einfluss der Fehlstellung der Gondel zum Wind auf die Erzeugung**"
   ]
  },
  {
   "cell_type": "markdown",
   "id": "b2ba488c",
   "metadata": {},
   "source": [
    "Bei der Fehlstellung der Gondel könnte ein äquivalenter Ansatz betrachtet werden. Da hier aber zu vermuten ist, dass positive wie negative Abweichungen sich gleichartig auswirken, verfolgen wir hier den Ansatz die Fehlstellung im Rahmen des feature-engineering als Absolutwert zu betrachten."
   ]
  },
  {
   "cell_type": "markdown",
   "id": "3e6e0b44",
   "metadata": {},
   "source": [
    "Hierzu müssen aber erst einmal die Winkel überprüft werden:<br>\n",
    "<img src=\"images/winkel.png\" alt=\"multi\" width=\"800\" >"
   ]
  },
  {
   "cell_type": "code",
   "execution_count": 14,
   "id": "71db195d",
   "metadata": {},
   "outputs": [
    {
     "data": {
      "text/html": [
       "<div>\n",
       "<style scoped>\n",
       "    .dataframe tbody tr th:only-of-type {\n",
       "        vertical-align: middle;\n",
       "    }\n",
       "\n",
       "    .dataframe tbody tr th {\n",
       "        vertical-align: top;\n",
       "    }\n",
       "\n",
       "    .dataframe thead th {\n",
       "        text-align: right;\n",
       "    }\n",
       "</style>\n",
       "<table border=\"1\" class=\"dataframe\">\n",
       "  <thead>\n",
       "    <tr style=\"text-align: right;\">\n",
       "      <th></th>\n",
       "      <th>Wdir</th>\n",
       "      <th>Nadir</th>\n",
       "      <th>Va_avg</th>\n",
       "    </tr>\n",
       "    <tr>\n",
       "      <th>Date_time</th>\n",
       "      <th></th>\n",
       "      <th></th>\n",
       "      <th></th>\n",
       "    </tr>\n",
       "  </thead>\n",
       "  <tbody>\n",
       "    <tr>\n",
       "      <th>2012-12-31 23:00:00+00:00</th>\n",
       "      <td>180.25</td>\n",
       "      <td>176.44</td>\n",
       "      <td>3.78</td>\n",
       "    </tr>\n",
       "    <tr>\n",
       "      <th>2012-12-31 23:10:00+00:00</th>\n",
       "      <td>183.29</td>\n",
       "      <td>176.44</td>\n",
       "      <td>6.90</td>\n",
       "    </tr>\n",
       "    <tr>\n",
       "      <th>2012-12-31 23:20:00+00:00</th>\n",
       "      <td>185.08</td>\n",
       "      <td>176.44</td>\n",
       "      <td>8.63</td>\n",
       "    </tr>\n",
       "    <tr>\n",
       "      <th>2012-12-31 23:30:00+00:00</th>\n",
       "      <td>190.33</td>\n",
       "      <td>188.41</td>\n",
       "      <td>-2.60</td>\n",
       "    </tr>\n",
       "    <tr>\n",
       "      <th>2012-12-31 23:40:00+00:00</th>\n",
       "      <td>188.07</td>\n",
       "      <td>192.90</td>\n",
       "      <td>-4.78</td>\n",
       "    </tr>\n",
       "    <tr>\n",
       "      <th>...</th>\n",
       "      <td>...</td>\n",
       "      <td>...</td>\n",
       "      <td>...</td>\n",
       "    </tr>\n",
       "    <tr>\n",
       "      <th>2016-12-31 22:10:00+00:00</th>\n",
       "      <td>195.14</td>\n",
       "      <td>195.14</td>\n",
       "      <td>-14.51</td>\n",
       "    </tr>\n",
       "    <tr>\n",
       "      <th>2016-12-31 22:20:00+00:00</th>\n",
       "      <td>196.18</td>\n",
       "      <td>196.18</td>\n",
       "      <td>-13.46</td>\n",
       "    </tr>\n",
       "    <tr>\n",
       "      <th>2016-12-31 22:30:00+00:00</th>\n",
       "      <td>195.72</td>\n",
       "      <td>195.72</td>\n",
       "      <td>-13.91</td>\n",
       "    </tr>\n",
       "    <tr>\n",
       "      <th>2016-12-31 22:40:00+00:00</th>\n",
       "      <td>196.32</td>\n",
       "      <td>196.32</td>\n",
       "      <td>-13.31</td>\n",
       "    </tr>\n",
       "    <tr>\n",
       "      <th>2016-12-31 22:50:00+00:00</th>\n",
       "      <td>198.25</td>\n",
       "      <td>198.25</td>\n",
       "      <td>-11.39</td>\n",
       "    </tr>\n",
       "  </tbody>\n",
       "</table>\n",
       "<p>201785 rows × 3 columns</p>\n",
       "</div>"
      ],
      "text/plain": [
       "                             Wdir   Nadir  Va_avg\n",
       "Date_time                                        \n",
       "2012-12-31 23:00:00+00:00  180.25  176.44    3.78\n",
       "2012-12-31 23:10:00+00:00  183.29  176.44    6.90\n",
       "2012-12-31 23:20:00+00:00  185.08  176.44    8.63\n",
       "2012-12-31 23:30:00+00:00  190.33  188.41   -2.60\n",
       "2012-12-31 23:40:00+00:00  188.07  192.90   -4.78\n",
       "...                           ...     ...     ...\n",
       "2016-12-31 22:10:00+00:00  195.14  195.14  -14.51\n",
       "2016-12-31 22:20:00+00:00  196.18  196.18  -13.46\n",
       "2016-12-31 22:30:00+00:00  195.72  195.72  -13.91\n",
       "2016-12-31 22:40:00+00:00  196.32  196.32  -13.31\n",
       "2016-12-31 22:50:00+00:00  198.25  198.25  -11.39\n",
       "\n",
       "[201785 rows x 3 columns]"
      ]
     },
     "execution_count": 14,
     "metadata": {},
     "output_type": "execute_result"
    }
   ],
   "source": [
    "# Betrachtung des dataframes\n",
    "wind[[\"Wdir\",\"Nadir\", \"Va_avg\"]]"
   ]
  },
  {
   "cell_type": "markdown",
   "id": "9a27bdce",
   "metadata": {},
   "source": [
    " erster Versuch: Va_avg, gegenüber der Differenz zwischen Wdir und Nadir"
   ]
  },
  {
   "cell_type": "code",
   "execution_count": 15,
   "id": "0e188fe1",
   "metadata": {
    "tags": []
   },
   "outputs": [],
   "source": [
    "fig,ax =plt.subplots(1,1,**{'figsize':[14,6]})\n",
    "ax.scatter(wind[\"Va_avg\"].values,wind[\"Wdir\"].values - wind[\"Nadir\"].values);\n",
    "ax.set(xlabel='Va_avg[°]',ylabel='Wdir - Nadir [°]');"
   ]
  },
  {
   "cell_type": "markdown",
   "id": "f4059b85",
   "metadata": {},
   "source": [
    "zweiter Versuch: Beschränkung auf die Produktionszeiten"
   ]
  },
  {
   "cell_type": "code",
   "execution_count": 16,
   "id": "4b1c76fc",
   "metadata": {
    "tags": []
   },
   "outputs": [],
   "source": [
    "fig,ax =plt.subplots(1,1,**{'figsize':[14,6]})\n",
    "# Auswertung nur für Betrieb\n",
    "ind = wind.index[np.nonzero(wind[\"S_avg\"].values>50)]\n",
    "ax.scatter(wind.loc[ind][\"Va_avg\"].values,wind.loc[ind][\"Wdir\"].values - wind.loc[ind][\"Nadir\"].values);\n",
    "ax.set(xlabel='Na_avg[°]',ylabel='Wdir - Nadir [°]');"
   ]
  },
  {
   "cell_type": "markdown",
   "id": "fe93cce6",
   "metadata": {},
   "source": [
    "dritter Versuch: Winkeldifferenz korrekt berechnen: "
   ]
  },
  {
   "cell_type": "code",
   "execution_count": 17,
   "id": "a1a8ef41",
   "metadata": {
    "tags": []
   },
   "outputs": [],
   "source": [
    "# (bisherige Betrachtung Nadir=1° und Wdir =364° -> diff = -363°; Nadir=364° und Wdir =1° -> 364°)\n",
    "# Anzatz verwendung des tan, da dieser periodisch ist\n",
    "winkel = wind[\"Wdir\"].values - wind[\"Nadir\"].values\n",
    "wind[\"Wdir-Nadir\"] = np.rad2deg(np.arctan2(np.sin(np.radians(winkel)), np.cos(np.radians(winkel))))\n",
    "fig,ax =plt.subplots(1,1,**{'figsize':[14,6]})\n",
    "# Auswertung nur für Betrieb mit korrekter Winkeldifferenz\n",
    "ax.scatter(wind.loc[ind][\"Va_avg\"].values,wind.loc[ind][\"Wdir-Nadir\"]);\n",
    "ax.set(xlabel='Na_avg[°]',ylabel='Wdir - Nadir [°]');"
   ]
  },
  {
   "cell_type": "code",
   "execution_count": 18,
   "id": "e06f7289",
   "metadata": {},
   "outputs": [],
   "source": [
    "# Betrachtung im Zeitablauf\n",
    "fig,ax =plt.subplots(2,1,**{'figsize':[14,6]})\n",
    "ax[1].plot(ind,wind.loc[ind][\"Va_avg\"].values);\n",
    "ax[1].set(xlabel='Zeit',ylabel=\"Va_avg [°]\")\n",
    "ax[0].plot(ind,wind.loc[ind][\"Wdir-Nadir\"].values)\n",
    "ax[0].set(xlabel='Zeit',ylabel=\"Wdir - Nadir [°]\");"
   ]
  },
  {
   "cell_type": "markdown",
   "id": "98fe8124",
   "metadata": {},
   "source": [
    "fünfter Versuch: Erklärung der Ausreißer mit Pitchwinkel und Verteilung auf Monate "
   ]
  },
  {
   "cell_type": "code",
   "execution_count": 19,
   "id": "ec907c1c",
   "metadata": {},
   "outputs": [],
   "source": [
    "fig, ax =plt.subplots(nrows=1,ncols=2,**{'figsize': (14, 5)})\n",
    "raster =[-5, -1.5, 1, 5, 10, 15, 20, 30, 50, 300]\n",
    "scatter_create(raster,wind.loc[ind][\"Pitch\"],wind.loc[ind][\"Va_avg\"],wind.loc[ind][\"Wdir-Nadir\"],ax[0]);\n",
    "# Aufteilung nach Monaten \n",
    "raster =list(range(1,13))\n",
    "scatter_create(raster,ind.month,wind.loc[ind][\"Va_avg\"],wind.loc[ind][\"Wdir-Nadir\"],ax[1]);"
   ]
  },
  {
   "cell_type": "markdown",
   "id": "0a5b76c7",
   "metadata": {},
   "source": [
    "Untersuchung der Abweichung in Abhängigkeit der Leistungsabgabe  "
   ]
  },
  {
   "cell_type": "code",
   "execution_count": 20,
   "id": "569d10f8",
   "metadata": {},
   "outputs": [],
   "source": [
    "fig,ax =plt.subplots(1,2,**{'figsize':[14,6]})\n",
    "ind = wind.index[np.nonzero((wind[\"S_avg\"].values>50)&(wind.index.year<2015))]\n",
    "ax[0].scatter(wind.loc[ind][\"Ws_avg\"].values,np.abs(wind.loc[ind][\"Wdir-Nadir\"]-wind.loc[ind][\"Va_avg\"]));\n",
    "ax[0].set(xlabel='Ws_avg',ylabel='Wdir - Nadir [°]',title = \"Fehlstellung Gondel in Abhängigkeit der Windgeschwindigkeit\");\n",
    "\n",
    "raster =[0, 5, 10, 15, 20, 45, 90, 200]\n",
    "scatter_create(raster,wind[\"Va_avg\"],wind[\"Ws_avg\"],wind[\"S_avg\"],ax[1])"
   ]
  },
  {
   "cell_type": "markdown",
   "id": "8610d36c",
   "metadata": {},
   "source": [
    "**Einfluss der Temperatur auf die Erzeugung**"
   ]
  },
  {
   "cell_type": "code",
   "execution_count": 21,
   "id": "9d47d428",
   "metadata": {},
   "outputs": [],
   "source": [
    "fig,ax =plt.subplots(1,2,**{'figsize':[14,6]})\n",
    "raster =[-20, -5, -3, 0, 3, 5, 10, 15, 40]\n",
    "scatter_create(raster,wind[\"Temp\"],wind[\"Ws_avg\"],wind[\"S_avg\"],ax[0])\n",
    "raster =[-20, 4, 40]\n",
    "scatter_create(raster,wind[\"Temp\"],wind[\"Ws_avg\"],wind[\"S_avg\"],ax[1])"
   ]
  },
  {
   "cell_type": "markdown",
   "id": "77558ac2",
   "metadata": {},
   "source": [
    "**Zusammenfassung der Korrelation der Einflussfaktoren**"
   ]
  },
  {
   "cell_type": "code",
   "execution_count": 22,
   "id": "d98ef22a",
   "metadata": {
    "tags": []
   },
   "outputs": [],
   "source": [
    "zeig = [1, 4, 13, 16, 17, 19, 21];\n",
    "\n",
    "# Compute the correlation matrix\n",
    "corr =np.round(100* wind.iloc[:,zeig].corr(),1)\n",
    "\n",
    "# Generate a mask for the upper triangle\n",
    "mask = np.triu(np.ones_like(corr, dtype=bool))\n",
    "\n",
    "# Set up the matplotlib figure\n",
    "fig, ax = plt.subplots(figsize=(8, 5))\n",
    "\n",
    "# Generate a custom diverging colormap\n",
    "cmap = sns.diverging_palette(230, 20, as_cmap=True)\n",
    "\n",
    "# Draw the heatmap with the mask and correct aspect ratio\n",
    "sns.heatmap(corr, mask=mask, cmap=cmap, vmax=1, center=0.5,annot =True,\n",
    "            square=True, linewidths=.5, cbar_kws={\"shrink\": .5});"
   ]
  },
  {
   "cell_type": "markdown",
   "id": "8028c3b7",
   "metadata": {},
   "source": [
    "## Modellierung der Windeinspeisung"
   ]
  },
  {
   "cell_type": "markdown",
   "id": "348083f6",
   "metadata": {},
   "source": [
    "Aufbereitung der Regressoren und Regressand des Trainingsdatensatzes (Windgeschwindigkeit und Scheinleistung)\n",
    "\n",
    "Bereinigung um  Datensätze mit Pitchwinkel > 44° "
   ]
  },
  {
   "cell_type": "code",
   "execution_count": 23,
   "id": "d4fe1651",
   "metadata": {},
   "outputs": [],
   "source": [
    "windbench = wind[wind[\"Pitch\"]<44]"
   ]
  },
  {
   "cell_type": "markdown",
   "id": "fe1ea475",
   "metadata": {},
   "source": [
    "**Darstellung der normierten Daten**"
   ]
  },
  {
   "cell_type": "code",
   "execution_count": 24,
   "id": "28bdd4db",
   "metadata": {},
   "outputs": [],
   "source": [
    "fig,ax =plt.subplots(1,1,**{'figsize':[14,6]})\n",
    "raster =[-5, -1.5, 1, 5, 10, 15, 20, 30, 50]\n",
    "scatter_create(raster,windbench[\"Pitch\"],windbench[\"Ws_avg\"],windbench[\"S_avg\"],ax)"
   ]
  },
  {
   "cell_type": "code",
   "execution_count": 25,
   "id": "7087a962",
   "metadata": {},
   "outputs": [],
   "source": [
    "plt.close()"
   ]
  },
  {
   "cell_type": "markdown",
   "id": "f299dc5a",
   "metadata": {
    "tags": []
   },
   "source": [
    "**Datenvorbereitung**<br>\n",
    "Partitionierung der Daten (Training, Validierung, Testdaten)"
   ]
  },
  {
   "cell_type": "code",
   "execution_count": 26,
   "id": "101a873b",
   "metadata": {
    "tags": []
   },
   "outputs": [],
   "source": [
    "from sklearn.model_selection import train_test_split\n",
    "\n",
    "x_train, x_test, y_train, y_test = train_test_split(windbench, windbench[\"S_avg\"], test_size=0.4)\n",
    "x_test, x_val, y_test, y_val = train_test_split(x_test, y_test, test_size=0.5)"
   ]
  },
  {
   "cell_type": "markdown",
   "id": "57567faa",
   "metadata": {},
   "source": [
    "Fehler der Testdaten"
   ]
  },
  {
   "cell_type": "markdown",
   "id": "fa08ea56",
   "metadata": {},
   "source": [
    "Plot der Testdaten"
   ]
  },
  {
   "cell_type": "code",
   "execution_count": 27,
   "id": "6f20eab4",
   "metadata": {},
   "outputs": [],
   "source": [
    "#M0_spline.MAE = mean(abs(M0_spline.Ypred_Val - out.y(cv(:,2)&(WT.in.Pitch<44))));\n",
    "#M0_spline.MAE"
   ]
  },
  {
   "cell_type": "code",
   "execution_count": 28,
   "id": "3ff89ade",
   "metadata": {},
   "outputs": [],
   "source": [
    "#fig, ax =plt.subplots(nrows=1,ncols=1,**{'figsize': (12, 7)})\n",
    "#ax.scatter(M0_spline.X_Train,M0_spline.Y_Train)\n",
    "#ax.set(xlabel='Windgeschwindigkeit [m/s]'',ylabel='Einspeisung [MWh]',title=\"Realität normiert\");"
   ]
  },
  {
   "cell_type": "markdown",
   "id": "81903a88",
   "metadata": {},
   "source": [
    "## Erstellung eines KNN zur Prognose der Einspeisung"
   ]
  },
  {
   "cell_type": "markdown",
   "id": "0b94f2a7",
   "metadata": {},
   "source": [
    "**Aufgabe 1:** Auswahl der Features"
   ]
  },
  {
   "cell_type": "markdown",
   "id": "d020c1bb",
   "metadata": {},
   "source": [
    "Erstellen Sie unterschiedliche Modelle, um die Relevanz der einzelnen Einflussgrößen (KNN.zeig) und deren Wirkungsweise zu analysieren\n",
    "- Modell 1: Verwendung Eingangsgröße Windgeschwindigkeit\n",
    "- Modell 2: Verwendung Eingangsgröße Windgeschwindigkeit und Pitch-Winkel\n",
    "- Modell 3: Verwendung aller sinnvollen und relevanten Eingangsgrößen\n",
    "Hinweis: Konstruktion Auswahl der Features  KNN.X = WT.in{:,[ a b c d]} \n",
    "\n",
    "- Vergleichen Sie den MAE der Validierungsdaten aus dem Modellvergleich mit dem Benchmark\n",
    "    - Schauen Sie sich pro Modelloutput Figure 11-13 an\n",
    "    - Figure 16: Zeitverlauf\n",
    "    - Figure 17: Reproduktion der Einspeisung/ Windgeschwindigkeit\n",
    "    - Figure 18: Fehler\n",
    "- Was kann gut was noch nicht gut reproduziert werden? \n",
    "- Gibt es Systematische Abweichungen?\n",
    "- Auswahl erklärende Variablen (Auswahl über zeig steuern)"
   ]
  },
  {
   "cell_type": "code",
   "execution_count": 29,
   "id": "c8e0b281",
   "metadata": {},
   "outputs": [
    {
     "data": {
      "text/html": [
       "<div>\n",
       "<style scoped>\n",
       "    .dataframe tbody tr th:only-of-type {\n",
       "        vertical-align: middle;\n",
       "    }\n",
       "\n",
       "    .dataframe tbody tr th {\n",
       "        vertical-align: top;\n",
       "    }\n",
       "\n",
       "    .dataframe thead th {\n",
       "        text-align: right;\n",
       "    }\n",
       "</style>\n",
       "<table border=\"1\" class=\"dataframe\">\n",
       "  <thead>\n",
       "    <tr style=\"text-align: right;\">\n",
       "      <th></th>\n",
       "      <th>Pitch</th>\n",
       "      <th>Rspeed</th>\n",
       "      <th>Gspeed</th>\n",
       "      <th>S_avg</th>\n",
       "      <th>S_min</th>\n",
       "      <th>S_max</th>\n",
       "      <th>S_std</th>\n",
       "      <th>P_avg</th>\n",
       "      <th>P_min</th>\n",
       "      <th>P_max</th>\n",
       "      <th>P_std</th>\n",
       "      <th>Q_avg</th>\n",
       "      <th>Ws_avg</th>\n",
       "      <th>Ws_min</th>\n",
       "      <th>Ws_max</th>\n",
       "      <th>Ws_std</th>\n",
       "      <th>Wdir</th>\n",
       "      <th>Nadir</th>\n",
       "      <th>Va_avg</th>\n",
       "      <th>Va_std</th>\n",
       "      <th>Temp</th>\n",
       "      <th>Ws_avgx</th>\n",
       "      <th>Ws_avgy</th>\n",
       "      <th>Wdir-Nadir</th>\n",
       "    </tr>\n",
       "    <tr>\n",
       "      <th>Date_time</th>\n",
       "      <th></th>\n",
       "      <th></th>\n",
       "      <th></th>\n",
       "      <th></th>\n",
       "      <th></th>\n",
       "      <th></th>\n",
       "      <th></th>\n",
       "      <th></th>\n",
       "      <th></th>\n",
       "      <th></th>\n",
       "      <th></th>\n",
       "      <th></th>\n",
       "      <th></th>\n",
       "      <th></th>\n",
       "      <th></th>\n",
       "      <th></th>\n",
       "      <th></th>\n",
       "      <th></th>\n",
       "      <th></th>\n",
       "      <th></th>\n",
       "      <th></th>\n",
       "      <th></th>\n",
       "      <th></th>\n",
       "      <th></th>\n",
       "    </tr>\n",
       "  </thead>\n",
       "  <tbody>\n",
       "    <tr>\n",
       "      <th>2016-02-01 21:00:00+00:00</th>\n",
       "      <td>-0.99</td>\n",
       "      <td>16.64</td>\n",
       "      <td>1744.31</td>\n",
       "      <td>739.06</td>\n",
       "      <td>401.28</td>\n",
       "      <td>1168.46</td>\n",
       "      <td>171.74</td>\n",
       "      <td>738.85</td>\n",
       "      <td>400.51</td>\n",
       "      <td>1168.46</td>\n",
       "      <td>171.94</td>\n",
       "      <td>12.55</td>\n",
       "      <td>7.66</td>\n",
       "      <td>4.49</td>\n",
       "      <td>11.01</td>\n",
       "      <td>1.15</td>\n",
       "      <td>227.50</td>\n",
       "      <td>227.50</td>\n",
       "      <td>-0.81</td>\n",
       "      <td>10.14</td>\n",
       "      <td>8.48</td>\n",
       "      <td>-5.18</td>\n",
       "      <td>-5.65</td>\n",
       "      <td>0.00</td>\n",
       "    </tr>\n",
       "    <tr>\n",
       "      <th>2013-04-10 08:50:00+00:00</th>\n",
       "      <td>-0.93</td>\n",
       "      <td>16.84</td>\n",
       "      <td>1766.17</td>\n",
       "      <td>1109.62</td>\n",
       "      <td>369.77</td>\n",
       "      <td>1950.39</td>\n",
       "      <td>382.58</td>\n",
       "      <td>1104.68</td>\n",
       "      <td>344.60</td>\n",
       "      <td>1948.73</td>\n",
       "      <td>386.18</td>\n",
       "      <td>85.78</td>\n",
       "      <td>9.09</td>\n",
       "      <td>5.37</td>\n",
       "      <td>12.66</td>\n",
       "      <td>1.37</td>\n",
       "      <td>236.98</td>\n",
       "      <td>225.56</td>\n",
       "      <td>2.72</td>\n",
       "      <td>13.20</td>\n",
       "      <td>9.38</td>\n",
       "      <td>-4.95</td>\n",
       "      <td>-7.62</td>\n",
       "      <td>11.42</td>\n",
       "    </tr>\n",
       "    <tr>\n",
       "      <th>2015-06-02 05:20:00+00:00</th>\n",
       "      <td>-0.98</td>\n",
       "      <td>16.77</td>\n",
       "      <td>1758.04</td>\n",
       "      <td>854.55</td>\n",
       "      <td>351.13</td>\n",
       "      <td>1762.84</td>\n",
       "      <td>299.32</td>\n",
       "      <td>853.85</td>\n",
       "      <td>346.02</td>\n",
       "      <td>1762.64</td>\n",
       "      <td>299.85</td>\n",
       "      <td>22.75</td>\n",
       "      <td>8.07</td>\n",
       "      <td>5.38</td>\n",
       "      <td>11.72</td>\n",
       "      <td>1.21</td>\n",
       "      <td>211.38</td>\n",
       "      <td>211.38</td>\n",
       "      <td>4.55</td>\n",
       "      <td>12.56</td>\n",
       "      <td>14.07</td>\n",
       "      <td>-6.89</td>\n",
       "      <td>-4.20</td>\n",
       "      <td>0.00</td>\n",
       "    </tr>\n",
       "    <tr>\n",
       "      <th>2013-01-18 14:00:00+00:00</th>\n",
       "      <td>-1.00</td>\n",
       "      <td>10.41</td>\n",
       "      <td>1095.26</td>\n",
       "      <td>132.20</td>\n",
       "      <td>68.97</td>\n",
       "      <td>189.53</td>\n",
       "      <td>27.27</td>\n",
       "      <td>130.55</td>\n",
       "      <td>65.12</td>\n",
       "      <td>188.81</td>\n",
       "      <td>27.90</td>\n",
       "      <td>19.52</td>\n",
       "      <td>4.90</td>\n",
       "      <td>3.48</td>\n",
       "      <td>6.93</td>\n",
       "      <td>0.64</td>\n",
       "      <td>96.33</td>\n",
       "      <td>111.68</td>\n",
       "      <td>-15.35</td>\n",
       "      <td>14.39</td>\n",
       "      <td>-1.25</td>\n",
       "      <td>-0.54</td>\n",
       "      <td>4.87</td>\n",
       "      <td>-15.35</td>\n",
       "    </tr>\n",
       "    <tr>\n",
       "      <th>2014-02-14 10:20:00+00:00</th>\n",
       "      <td>-0.97</td>\n",
       "      <td>16.79</td>\n",
       "      <td>1761.16</td>\n",
       "      <td>967.97</td>\n",
       "      <td>441.84</td>\n",
       "      <td>1808.01</td>\n",
       "      <td>359.97</td>\n",
       "      <td>967.72</td>\n",
       "      <td>441.55</td>\n",
       "      <td>1807.77</td>\n",
       "      <td>360.12</td>\n",
       "      <td>9.15</td>\n",
       "      <td>8.31</td>\n",
       "      <td>5.49</td>\n",
       "      <td>11.66</td>\n",
       "      <td>1.42</td>\n",
       "      <td>153.54</td>\n",
       "      <td>158.08</td>\n",
       "      <td>-2.68</td>\n",
       "      <td>13.52</td>\n",
       "      <td>5.25</td>\n",
       "      <td>-7.44</td>\n",
       "      <td>3.70</td>\n",
       "      <td>-4.54</td>\n",
       "    </tr>\n",
       "  </tbody>\n",
       "</table>\n",
       "</div>"
      ],
      "text/plain": [
       "                           Pitch  Rspeed   Gspeed  ...  Ws_avgx  Ws_avgy  Wdir-Nadir\n",
       "Date_time                                          ...                              \n",
       "2016-02-01 21:00:00+00:00  -0.99   16.64  1744.31  ...    -5.18    -5.65        0.00\n",
       "2013-04-10 08:50:00+00:00  -0.93   16.84  1766.17  ...    -4.95    -7.62       11.42\n",
       "2015-06-02 05:20:00+00:00  -0.98   16.77  1758.04  ...    -6.89    -4.20        0.00\n",
       "2013-01-18 14:00:00+00:00  -1.00   10.41  1095.26  ...    -0.54     4.87      -15.35\n",
       "2014-02-14 10:20:00+00:00  -0.97   16.79  1761.16  ...    -7.44     3.70       -4.54\n",
       "\n",
       "[5 rows x 24 columns]"
      ]
     },
     "execution_count": 29,
     "metadata": {},
     "output_type": "execute_result"
    }
   ],
   "source": [
    "x_train.head()"
   ]
  },
  {
   "cell_type": "markdown",
   "id": "c08b5b43",
   "metadata": {},
   "source": [
    "**Eingabe_Ausgabe-Objekt**"
   ]
  },
  {
   "cell_type": "code",
   "execution_count": 30,
   "id": "c6cec34e",
   "metadata": {},
   "outputs": [],
   "source": [
    "class KNN():\n",
    "    pass"
   ]
  },
  {
   "cell_type": "markdown",
   "id": "271bdcd4",
   "metadata": {},
   "source": [
    "**data preprocessing**"
   ]
  },
  {
   "cell_type": "code",
   "execution_count": 31,
   "id": "dabe4940",
   "metadata": {
    "tags": []
   },
   "outputs": [],
   "source": [
    "from sklearn.preprocessing import MinMaxScaler, StandardScaler"
   ]
  },
  {
   "cell_type": "code",
   "execution_count": 32,
   "id": "7dc0a546",
   "metadata": {
    "tags": []
   },
   "outputs": [],
   "source": [
    "KNN.scaler = 1\n",
    "if KNN.scaler ==1:\n",
    "    scalerX = MinMaxScaler()\n",
    "    x_train_norm = scalerX.fit_transform(x_train)\n",
    "    x_val_norm = scalerX.transform(x_val)\n",
    "    x_test_norm = scalerX.transform(x_test)\n",
    "    scalerY = MinMaxScaler()\n",
    "    y_train_norm = scalerY.fit_transform(y_train.values.reshape(-1, 1))\n",
    "    y_val_norm = scalerY.transform(y_val.values.reshape(-1, 1))\n",
    "    y_test_norm = scalerY.transform(y_test.values.reshape(-1, 1))\n",
    "else:\n",
    "    scalerX = StandardScaler()\n",
    "    x_train_norm = scalerX.fit_transform(x_train)\n",
    "    scalerY = StandardScaler()\n",
    "    y_train_norm = scalerY.fit_transform(y_train.values.reshape(-1, 1))\n",
    "    y_val_norm = scalerY.transform(y_val.values.reshape(-1, 1))\n",
    "    y_test_norm = scalerY.transform(y_test.values.reshape(-1, 1))"
   ]
  },
  {
   "cell_type": "markdown",
   "id": "210b1e39",
   "metadata": {},
   "source": [
    "verwendete Features"
   ]
  },
  {
   "cell_type": "code",
   "execution_count": 33,
   "id": "9ebedc22",
   "metadata": {},
   "outputs": [
    {
     "data": {
      "text/plain": [
       "Index(['Pitch', 'Rspeed', 'Gspeed', 'S_avg', 'S_min', 'S_max', 'S_std',\n",
       "       'P_avg', 'P_min', 'P_max', 'P_std', 'Q_avg', 'Ws_avg', 'Ws_min',\n",
       "       'Ws_max', 'Ws_std', 'Wdir', 'Nadir', 'Va_avg', 'Va_std', 'Temp',\n",
       "       'Ws_avgx', 'Ws_avgy', 'Wdir-Nadir'],\n",
       "      dtype='object')"
      ]
     },
     "execution_count": 33,
     "metadata": {},
     "output_type": "execute_result"
    }
   ],
   "source": [
    "wind.columns"
   ]
  },
  {
   "cell_type": "markdown",
   "id": "fa23915f",
   "metadata": {},
   "source": [
    "**Erstellen Sie nun die Features mit hilfe des Zeigers KNN.zeig als Liste der relevanten Indizes des Dataframes winds**"
   ]
  },
  {
   "cell_type": "code",
   "execution_count": null,
   "id": "50dc2932",
   "metadata": {
    "tags": []
   },
   "outputs": [],
   "source": [
    "#KNN.zeig = [...,...,...];"
   ]
  },
  {
   "cell_type": "code",
   "execution_count": null,
   "id": "dfc3bd83",
   "metadata": {},
   "outputs": [],
   "source": [
    "KNN.x_train = x_train_norm[:,KNN.zeig];\n",
    "KNN.x_val = x_val_norm[:,KNN.zeig];\n",
    "KNN.x_test = x_test_norm[:,KNN.zeig];"
   ]
  },
  {
   "cell_type": "markdown",
   "id": "e48758fd",
   "metadata": {},
   "source": [
    "**Definition Features und Output**"
   ]
  },
  {
   "cell_type": "code",
   "execution_count": null,
   "id": "5e3a8e74",
   "metadata": {},
   "outputs": [],
   "source": [
    "_,KNN.numFeatures = KNN.x_train.shape\n",
    "KNN.numResponses = 1;"
   ]
  },
  {
   "cell_type": "markdown",
   "id": "47c18b64",
   "metadata": {},
   "source": [
    "### Modellaufbau mit Keras-Sequential Schreibweise"
   ]
  },
  {
   "cell_type": "code",
   "execution_count": null,
   "id": "899183a5",
   "metadata": {},
   "outputs": [],
   "source": [
    "from tensorflow.keras.models import Sequential\n",
    "from tensorflow.keras.layers import Dense\n",
    "# Modellaufbau\n",
    "ANN = Sequential()\n",
    "ANN.add(Dense(20,input_shape =[KNN.numFeatures], activation='relu'))\n",
    "ANN.add(Dense(30,activation='relu'))\n",
    "ANN.add(Dense(1, activation='linear'))\n",
    "ANN.compile(loss ='mean_squared_error',optimizer='adam')\n",
    "ANN.summary()"
   ]
  },
  {
   "cell_type": "markdown",
   "id": "3930e5a9",
   "metadata": {},
   "source": [
    "**Trainieren des neuronalen Netzes**"
   ]
  },
  {
   "cell_type": "code",
   "execution_count": null,
   "id": "ebb0fdfa",
   "metadata": {
    "scrolled": true,
    "tags": []
   },
   "outputs": [],
   "source": [
    "from tensorflow.keras.callbacks import ModelCheckpoint, EarlyStopping\n",
    "early = EarlyStopping(monitor='val_loss', patience=20)\n",
    "check = ModelCheckpoint(filepath='windmodel.h5', \n",
    "                        monitor='val_loss', save_best_only=True)\n",
    "\n",
    "history = ANN.fit(KNN.x_train,y_train_norm,epochs=1000, batch_size=5000,validation_data=(KNN.x_val,y_val_norm),callbacks=[early, check])"
   ]
  },
  {
   "cell_type": "markdown",
   "id": "18645de4",
   "metadata": {},
   "source": [
    "**Plot Verlauf der Verlustfunktion**"
   ]
  },
  {
   "cell_type": "code",
   "execution_count": null,
   "id": "3c8b254e",
   "metadata": {
    "tags": []
   },
   "outputs": [],
   "source": [
    "fig, ax =plt.subplots(nrows=1,ncols=1,**{'figsize': (14, 7)})\n",
    "lin1 = ax.plot(history.history['val_loss'],label='val_loss')\n",
    "lin2 = ax.plot(history.history['loss'],label='loss')\n",
    "ax.set(xlabel='Epoche',ylabel='loss')\n",
    "ax.legend();\n",
    "ax.grid()"
   ]
  },
  {
   "cell_type": "markdown",
   "id": "a79c1c8e",
   "metadata": {},
   "source": [
    "**Anwendung auf die Testdaten: Berechnung Verlust**"
   ]
  },
  {
   "cell_type": "code",
   "execution_count": null,
   "id": "24c52fa3",
   "metadata": {},
   "outputs": [],
   "source": [
    "from tensorflow.keras.models import load_model\n",
    "model = load_model('windmodel.h5')\n",
    "KNN.loss_train=ANN.evaluate(KNN.x_train,y_train_norm)\n",
    "KNN.loss_val=ANN.evaluate(KNN.x_val,y_val_norm)\n",
    "KNN.loss_test=ANN.evaluate(KNN.x_val,y_test_norm)"
   ]
  },
  {
   "cell_type": "markdown",
   "id": "2e9bc3ea",
   "metadata": {},
   "source": [
    "**Prognose von Training, Validierungs- und Testdaten**"
   ]
  },
  {
   "cell_type": "code",
   "execution_count": null,
   "id": "3db7e87b",
   "metadata": {},
   "outputs": [],
   "source": [
    "ypred_train_norm=ANN.predict(KNN.x_train)\n",
    "ypred_val_norm=ANN.predict(KNN.x_val)\n",
    "ypred_test_norm=ANN.predict(KNN.x_test)"
   ]
  },
  {
   "cell_type": "markdown",
   "id": "d27a8c6d",
   "metadata": {},
   "source": [
    "**Inverse Scalierung**"
   ]
  },
  {
   "cell_type": "code",
   "execution_count": null,
   "id": "29a281d2",
   "metadata": {},
   "outputs": [],
   "source": [
    "ypred_train = scalerY.inverse_transform(ypred_train_norm)\n",
    "ypred_val = scalerY.inverse_transform(ypred_val_norm)\n",
    "ypred_test = scalerY.inverse_transform(ypred_test_norm)"
   ]
  },
  {
   "cell_type": "markdown",
   "id": "15621fed",
   "metadata": {},
   "source": [
    "**Scatter Plot Orginal vs. Prognose**"
   ]
  },
  {
   "cell_type": "code",
   "execution_count": null,
   "id": "977fa01c",
   "metadata": {
    "tags": []
   },
   "outputs": [],
   "source": [
    "fig, ax =plt.subplots(nrows=1,ncols=3,**{'figsize': (14, 5)})\n",
    "lin1=ax[0].scatter(x_train[\"Ws_avg\"],y_train,label='orginal');\n",
    "lin2=ax[0].scatter(x_train[\"Ws_avg\"],ypred_train,label='pred');\n",
    "ax[0].set(ylabel=\"Leistung [MW]\",xlabel=\"Windgeschwindigkeit [m/s]\",title='Training',ylim=(0,2200));\n",
    "ax[0].legend()\n",
    "lin1=ax[1].scatter(x_val[\"Ws_avg\"],y_val,label='orginal');\n",
    "lin2=ax[1].scatter(x_val[\"Ws_avg\"],ypred_val,label='pred');\n",
    "ax[1].set(ylabel=\"Leistung [MW]\",xlabel=\"Windgeschwindigkeit [m/s]\",title='Validierung',ylim=(0,2200));\n",
    "ax[1].legend()\n",
    "lin1=ax[2].scatter(x_test[\"Ws_avg\"],y_test,label='orginal');\n",
    "lin2=ax[2].scatter(x_test[\"Ws_avg\"],ypred_test,label='pred');\n",
    "ax[2].set(ylabel=\"Leistung [MW]\",xlabel=\"Windgeschwindigkeit [m/s]\",title='Test',ylim=(0,2200));\n",
    "ax[2].legend();"
   ]
  },
  {
   "cell_type": "markdown",
   "id": "a028f61d",
   "metadata": {},
   "source": [
    "**Scatter des Fehlers**"
   ]
  },
  {
   "cell_type": "code",
   "execution_count": null,
   "id": "f6df78ac",
   "metadata": {
    "tags": []
   },
   "outputs": [],
   "source": [
    "fig, ax =plt.subplots(nrows=1,ncols=3,**{'figsize': (14, 4)})\n",
    "lin1=ax[0].scatter(x_train[\"Ws_avg\"],ypred_train-y_train.values.reshape(-1,1),label='orginal');\n",
    "ax[0].set(ylabel=\"Leistung [MW]\",xlabel=\"Windgeschwindigkeit [m/s]\",title='Training',ylim=(-500,500));\n",
    "ax[0].legend()\n",
    "lin1=ax[1].scatter(x_val[\"Ws_avg\"],ypred_val-y_val.values.reshape(-1,1),label='orginal');\n",
    "ax[1].set(ylabel=\"Leistung [MW]\",xlabel=\"Windgeschwindigkeit [m/s]\",title='Validierung',ylim=(-500,500));\n",
    "ax[1].legend()\n",
    "lin1=ax[2].scatter(x_test[\"Ws_avg\"],ypred_test-y_test.values.reshape(-1,1),label='orginal');\n",
    "ax[2].set(ylabel=\"Leistung [MW]\",xlabel=\"Windgeschwindigkeit [m/s]\",title='Test',ylim=(-500,500));\n",
    "ax[2].legend();"
   ]
  },
  {
   "cell_type": "markdown",
   "id": "58661dd4",
   "metadata": {},
   "source": [
    "**Verlauf**"
   ]
  },
  {
   "cell_type": "code",
   "execution_count": null,
   "id": "ef74187e",
   "metadata": {
    "tags": []
   },
   "outputs": [],
   "source": [
    "fig, ax =plt.subplots(nrows=1,ncols=3,**{'figsize': (14, 5)})\n",
    "lin1=ax[0].plot(x_train.index,y_train,label='orginal',marker ='.',linestyle='None');\n",
    "lin2=ax[0].plot(x_train.index,ypred_train,label='pred',linestyle='None',marker ='.');\n",
    "ax[0].set(ylabel=\"Leistung [MW]\",xlabel=\"Windgeschwindigkeit [m/s]\",title='Training',ylim=(0,2200));\n",
    "ax[0].legend()\n",
    "lin1=ax[1].plot(x_val.index,y_val,linestyle='None',marker ='o',label='orginal');\n",
    "lin2=ax[1].plot(x_val.index,ypred_val,linestyle='None',marker ='o',label='pred');\n",
    "ax[1].set(ylabel=\"Leistung [MW]\",xlabel=\"Windgeschwindigkeit [m/s]\",title='Validierung',ylim=(0,2200));\n",
    "ax[1].legend()\n",
    "lin1=ax[2].plot(x_test.index,y_test,linestyle='None',marker ='o',label='orginal');\n",
    "lin2=ax[2].plot(x_test.index,ypred_test,linestyle='None',marker ='o',label='pred');\n",
    "ax[2].set(ylabel=\"Leistung [MW]\",xlabel=\"Windgeschwindigkeit [m/s]\",title='Test',ylim=(0,2200));\n",
    "ax[2].legend();"
   ]
  },
  {
   "cell_type": "markdown",
   "id": "7492db65",
   "metadata": {},
   "source": [
    "**Aufgabe 2: Einfluss Skalierungs- und Aktivierungsmethode**\n",
    "\n",
    "- Variieren Sie den Parameters KNN.Scaler [ 0 1] und den verwendeten Layer der Aktvierung \n",
    "[relu; tanh; sigmoid].\n",
    "- Wie wirkt sich dies auf das Ergebnis aus?\n",
    "\n",
    "**Aufgabe 3: Netztopologie**\n",
    "- Variieren Sie die Anzahl der hidden Layer \n",
    "- Die Anzahl der hidden units \n",
    "- Wie wirkt sich dies auf das Ergebnis aus?\n",
    "- Wie reduzieren Sie die negativen Einspeisungen? (Hinweis: betrachten Sie die Möglichkeit in den Layern unterschiedliche Aktivierungsfunktionen zu nutzen\n",
    "\n",
    "**Aufgabe 4: Zusatz Hyperparameter**\n",
    "- Betrachten Sie die Einstellmöglichkeiten des Optimierers adam KNN.options\n",
    "- Sie können einzelne Parameter individuell anders setzen und die Auswirkungen analysieren\n",
    "- Untersuchen Sie zuerst die Veränderung der Lernrate"
   ]
  }
 ],
 "metadata": {
  "kernelspec": {
   "display_name": "Python 3 (ipykernel)",
   "language": "python",
   "name": "python3"
  },
  "language_info": {
   "codemirror_mode": {
    "name": "ipython",
    "version": 3
   },
   "file_extension": ".py",
   "mimetype": "text/x-python",
   "name": "python",
   "nbconvert_exporter": "python",
   "pygments_lexer": "ipython3",
   "version": "3.9.16"
  },
  "widgets": {
   "application/vnd.jupyter.widget-state+json": {
    "state": {},
    "version_major": 2,
    "version_minor": 0
   }
  }
 },
 "nbformat": 4,
 "nbformat_minor": 5
}
