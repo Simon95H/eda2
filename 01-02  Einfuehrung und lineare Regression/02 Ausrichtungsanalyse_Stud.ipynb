{
 "cells": [
  {
   "cell_type": "markdown",
   "id": "52966090-4b2b-4cc1-b5c1-6c33de83d06c",
   "metadata": {},
   "source": [
    "# Anwendung der linearen Regression: Ausrichtungsanalyse"
   ]
  },
  {
   "cell_type": "markdown",
   "id": "e8e42e10-224f-4f43-a2d2-a4ab3b5c9064",
   "metadata": {},
   "source": [
    "**Lernziele**<br>\n",
    "\n",
    " - Transfer der linearen Regression auf Bildverarbeitung\n",
    " - Verständnis für die Methoden zur Ausreißerbeurteilung und -behandlung   "
   ]
  },
  {
   "cell_type": "markdown",
   "id": "64a38b73-9142-4b2c-8916-ee3b02da4e90",
   "metadata": {},
   "source": [
    "### Vorbereitung"
   ]
  },
  {
   "cell_type": "markdown",
   "id": "24724433-fda9-491e-b835-81c24ed30485",
   "metadata": {},
   "source": [
    "**Pakete einladen**"
   ]
  },
  {
   "cell_type": "code",
   "execution_count": null,
   "id": "79146ea5-1abb-409c-b87b-30be9c5d186b",
   "metadata": {
    "tags": []
   },
   "outputs": [],
   "source": [
    "import numpy as np\n",
    "import pandas as pd\n",
    "import matplotlib.pyplot as plt\n",
    "plt.rcParams[\"figure.figsize\"] = (12, 6)\n",
    "import statsmodels.api as sm\n",
    "import statsmodels.formula.api as smf\n",
    "from scipy import stats\n",
    "%matplotlib widget\n",
    "\n",
    "pd.set_option('display.precision',2)\n",
    "np.set_printoptions(precision=3)\n",
    "plt.close()"
   ]
  },
  {
   "cell_type": "markdown",
   "id": "a392f046-bdf5-49d4-afe0-0d993dd83910",
   "metadata": {},
   "source": [
    "**Einladen der Bilddaten**"
   ]
  },
  {
   "cell_type": "code",
   "execution_count": null,
   "id": "4707136d-03b6-4649-b9fc-8faf960fe048",
   "metadata": {},
   "outputs": [],
   "source": [
    "data = pd.read_excel('../data/Datenbild.xlsx',sheet_name =\"Grunddaten\", header=None).to_numpy()"
   ]
  },
  {
   "cell_type": "markdown",
   "id": "5ddcbbb3-355d-45c6-9f61-50af5d0413ef",
   "metadata": {},
   "source": [
    "### Darstellung des Bildes"
   ]
  },
  {
   "cell_type": "markdown",
   "id": "d73da577-c789-45cc-ad65-c7517ac33be0",
   "metadata": {},
   "source": [
    "geladenes Array **datda** enthält 98x98 Bildpunkte [0;1] Kodierung"
   ]
  },
  {
   "cell_type": "code",
   "execution_count": null,
   "id": "cdac8898-7462-4175-8ff7-75159d4023ae",
   "metadata": {},
   "outputs": [],
   "source": [
    "fig, ax = plt.subplots()\n",
    "ax.contour(data)\n",
    "ax.axes.grid()\n",
    "ax.set(xlabel='X', ylabel='Y',title = \"Pixeldarstellung der Ausrichtung\");"
   ]
  },
  {
   "cell_type": "markdown",
   "id": "c96df26f-cc9c-4682-b6fd-95acf182649a",
   "metadata": {},
   "source": [
    "### Transformation des Vektors\n"
   ]
  },
  {
   "cell_type": "markdown",
   "id": "4cc6559f-8d79-4d64-9d69-5c028255207a",
   "metadata": {},
   "source": [
    "**Aufgabe**:  \n",
    "Bereiten Sie die Eingangsgrößen (Vektoren x,y) für die Regression vor<br>  \n",
    "Hinweis: \n",
    " - Die Bildinformationen müssen transferiert werden in eine abhängige und eine unabhängige Variable\n",
    " - x = Spaltennummer(Datenpunkt)\n",
    " - y = Zeilennummer(Datenpunkt)\n",
    "\n",
    "Zeilen und Spaltenindex erhalten Sie durch die numpy-Funktion **nonzero**.<br>  \n",
    "\n",
    "Den Zeilenindex müssen Sie noch entsprechend 97 abziehen (ein Datenpunkt in der obersten Zeile hat index 0, soll aber entsprechend der Regression den Wert 97 erhalten) \n"
   ]
  },
  {
   "cell_type": "code",
   "execution_count": null,
   "id": "0c4aff53-7829-45b1-b320-114225120b6c",
   "metadata": {},
   "outputs": [],
   "source": [
    "# your code goes here\n"
   ]
  },
  {
   "cell_type": "markdown",
   "id": "a0309285-1309-4d3f-b702-4d60900bcdf8",
   "metadata": {},
   "source": [
    "<details>\n",
    "    <summary>Click here to see a <strong>solution</strong>.</summary>\n",
    "\n",
    "```python\n",
    "y,x=np.nonzero(data)\n",
    "y = 97 -y\n",
    "```\n",
    "</details>"
   ]
  },
  {
   "cell_type": "markdown",
   "id": "1010f042-5674-430b-b007-4fa8bd4d0083",
   "metadata": {},
   "source": [
    "### Datenpunkte in die zweidimensionale Ebene zeichnen"
   ]
  },
  {
   "cell_type": "markdown",
   "id": "e95d20ce-5e77-4ad1-ac01-03b2adad3533",
   "metadata": {},
   "source": [
    "**Aufgabe**:  \n",
    "Zeichnen Sie ein scatter-diagramm mit x,y und überprüfen die Übereinsstimmung mit der obigen Abbildung <br>  "
   ]
  },
  {
   "cell_type": "code",
   "execution_count": null,
   "id": "30e9bd39-af89-442a-a78e-fe3b860b297c",
   "metadata": {},
   "outputs": [],
   "source": [
    "# your code goes here\n"
   ]
  },
  {
   "cell_type": "markdown",
   "id": "b3a710ee-89b6-49dc-b98a-f8b2b324b8e6",
   "metadata": {},
   "source": [
    "<details>\n",
    "    <summary>Click here to see a <strong>solution</strong>.</summary>\n",
    "\n",
    "```python\n",
    "fig, ax = plt.subplots()\n",
    "ax.scatter(x,y)\n",
    "ax.set(xlabel='X', ylabel='Y',title = \"Pixeldarstellung der Ausrichtung\");\n",
    "```\n",
    "</details>"
   ]
  },
  {
   "cell_type": "markdown",
   "id": "5cb2bd41-84ed-4891-b78f-7cb89ad1963b",
   "metadata": {},
   "source": [
    "### Berechnung der Steigung direkt aus den Daten"
   ]
  },
  {
   "cell_type": "markdown",
   "id": "4fbdde8b-e232-431b-9267-b4f67aa456e1",
   "metadata": {},
   "source": [
    "**Aufgabe:**\n",
    "\n",
    "Führen Sie die Regression durch und speichern das Ausgabeobjekt in **results** ab. Geben sie mit print die Methode summary von Results aus.\n",
    "\n",
    "Konsultieren Sie hierzu die hilfe des Paketes statsmodels:<br>\n",
    "\n",
    "https://www.statsmodels.org/stable/generated/statsmodels.regression.linear_model.OLS.html#statsmodels.regression.linear_model.OLS\n",
    "\n",
    "class statsmodels.regression.linear_model.OLS(endog, exog=None, missing='none', hasconst=None, **kwargs)\n",
    "\n",
    "\n",
    "Hinweise: \n",
    "- die api wurde oben schon als **sm** importiert.  \n",
    "- Sie müssen x noch eine Konstante (Achsenabschnitt hinzufügen (sm.add_constant)"
   ]
  },
  {
   "cell_type": "code",
   "execution_count": null,
   "id": "9c16135d-803e-4b36-b5fc-217e5e79406e",
   "metadata": {},
   "outputs": [],
   "source": [
    "# your code goes here\n"
   ]
  },
  {
   "cell_type": "markdown",
   "id": "c6e03460-4884-4a9f-911c-ae98e21c7094",
   "metadata": {},
   "source": [
    "<details>\n",
    "    <summary>Click here to see a <strong>solution</strong>.</summary>\n",
    "\n",
    "```python\n",
    "xx = sm.add_constant(x)\n",
    "results = sm.OLS(y, xx).fit()\n",
    "print(results.summary())\n",
    "```\n",
    "</details>"
   ]
  },
  {
   "cell_type": "markdown",
   "id": "471cdccd-65ce-4546-8d89-c73571afa9d9",
   "metadata": {},
   "source": [
    "### Abbildung der Datenpunkte und Datengerade"
   ]
  },
  {
   "cell_type": "code",
   "execution_count": null,
   "id": "89d2845d-9d3e-4a2e-b804-3f56e1713f25",
   "metadata": {},
   "outputs": [],
   "source": [
    "fig, ax = plt.subplots(figsize=(8, 6))\n",
    "\n",
    "ax.plot(x,y, \"o\", label=\"data\")\n",
    "ax.plot(x,results.fittedvalues, \"b--.\", label=\"OLS\");\n",
    "ax.legend();"
   ]
  },
  {
   "cell_type": "markdown",
   "id": "269c65f5-3435-4544-b32b-ea0afbeac7d9",
   "metadata": {},
   "source": [
    "### Bestimmung des Winkels in Abhängigkeit der Steigung"
   ]
  },
  {
   "cell_type": "markdown",
   "id": "87314d2a-9d55-456d-9de2-bfd9412e7130",
   "metadata": {},
   "source": [
    "**Aufgabe:**\n",
    "\n",
    "Bestimmen Sie den Winkel aus den Ergebnissen der Regression\n",
    "\n",
    "<img src=\"../img/winkel.png\" alt=\"winkel\" width=\"800\" >\n",
    "\n",
    "In welcher Bandbreite liegt der Winkel bei Betrachtung des [2,5%, 97,5%] Intervalls (Daten können mit folgender Methode erhoben werden results.conf_int()[1])"
   ]
  },
  {
   "cell_type": "code",
   "execution_count": null,
   "id": "9e7791e7-22b3-445f-acce-d5dab7b9259e",
   "metadata": {},
   "outputs": [],
   "source": [
    "# your code starts here\n"
   ]
  },
  {
   "cell_type": "markdown",
   "id": "f3e0ceda-e2f3-47ad-841c-66f483a3d9e4",
   "metadata": {},
   "source": [
    "<details>\n",
    "    <summary>Click here to see a <strong>solution</strong>.</summary>\n",
    "\n",
    "```python\n",
    "b_range=np.append(results.conf_int()[1],results.params[1])\n",
    "winkels=np.zeros(3)\n",
    "for i, b in enumerate(b_range):\n",
    "    if b>0:\n",
    "         winkels[i]= np.arctan(b)/np.pi*180;\n",
    "    else:\n",
    "        winkels[i]=180+np.arctan(b)/np.pi*180;\n",
    "        \n",
    "print(winkels)\n",
    "```\n",
    "</details>"
   ]
  },
  {
   "cell_type": "markdown",
   "id": "603fbde5-1294-4cce-b872-7508f8d8645f",
   "metadata": {},
   "source": [
    "## Robuste Regression"
   ]
  },
  {
   "cell_type": "markdown",
   "id": "48dc9778-6aaf-4492-a4ea-dab92ea96c75",
   "metadata": {},
   "source": [
    "### Betrachtung des Leverage der CooksDistance Dffits des Datenpunktes"
   ]
  },
  {
   "cell_type": "markdown",
   "id": "04c75157-9287-4d0b-86b6-11c363087708",
   "metadata": {},
   "source": [
    "**Aufgabe:**\n",
    "Betrachten Sie die Ausgabe mdl1.Diagnostics und analysieren ob kritische Datenpunkte mit einem hohen Einfluss auf die Regression vorliegen\n",
    "Finden Sie die relevanten Punkte, welche Sie bei einer erneuten Regression exkludieren\n",
    "\n",
    "class statsmodels.stats.outliers_influence.OLSInfluence(results)\n",
    "\n",
    "https://www.statsmodels.org/stable/generated/statsmodels.regression.linear_model.OLS.html#statsmodels.regression.linear_model.OLS\n",
    "\n",
    "Verwenden Sie die Angaben zum auffinden der Outlier entsprechend Folie @@  \n"
   ]
  },
  {
   "cell_type": "code",
   "execution_count": null,
   "id": "e1d93c33-fcc2-4f56-bacf-6cb0c727127e",
   "metadata": {},
   "outputs": [],
   "source": [
    "# your code starts here\n"
   ]
  },
  {
   "cell_type": "markdown",
   "id": "70d3f1f5-bf04-413d-a70b-6dab09eaebc0",
   "metadata": {},
   "source": [
    "<details>\n",
    "    <summary>Click here to see a <strong>solution</strong>.</summary>\n",
    "\n",
    "```python\n",
    "infl=results.get_influence()\n",
    "\n",
    "infl.cooks_distance[0]\n",
    "\n",
    "#Berechnung der Regression ohne Datenpunkte mit übermäßigen Einfluss\n",
    "fig, ax = plt.subplots()\n",
    "ax.bar(np.arange(0,results.nobs),infl.cooks_distance[0])\n",
    "\n",
    "\n",
    "cooksig = np.nonzero(infl.cooks_distance[0]>1)\n",
    "DFFITSsig=np.nonzero(infl.dffits[0]>infl.dffits[1])\n",
    "```\n",
    "</details>"
   ]
  },
  {
   "cell_type": "markdown",
   "id": "03aed59e-33a6-4bb2-b1c2-9e87984b734c",
   "metadata": {},
   "source": [
    "### Berechnung der Steigung direkt aus den Daten mit robuster Regression"
   ]
  },
  {
   "cell_type": "code",
   "execution_count": null,
   "id": "68ccf4c9-9fc9-4fe1-ba5b-071519b9cff8",
   "metadata": {},
   "outputs": [],
   "source": [
    "results_rob = sm.RLM(y, xx).fit()\n",
    "print(results_rob.summary())"
   ]
  },
  {
   "cell_type": "code",
   "execution_count": null,
   "id": "d38e4a9c-e0bc-4276-8672-35deb2695148",
   "metadata": {},
   "outputs": [],
   "source": [
    "b_range_rob=np.append(results_rob.conf_int()[1],results_rob.params[1])\n",
    "winkels_rob=np.zeros(3)\n",
    "for i, b in enumerate(b_range_rob):\n",
    "    if b>0:\n",
    "         winkels_rob[i]= np.arctan(b)/np.pi*180;\n",
    "    else:\n",
    "        winkels_rob[i]=180+np.arctan(b)/np.pi*180;\n",
    "        \n",
    "print(winkels_rob)"
   ]
  },
  {
   "cell_type": "code",
   "execution_count": null,
   "id": "b1e217a9-ed11-4a29-ad06-f2685d6cb8cb",
   "metadata": {},
   "outputs": [],
   "source": [
    "fig, ax = plt.subplots(figsize=(8, 6))\n",
    "\n",
    "ax.plot(x,y, \"o\", label=\"data\")\n",
    "ax.plot(x,results_rob.fittedvalues, \"b--.\", label=\"OLS\")"
   ]
  }
 ],
 "metadata": {
  "kernelspec": {
   "display_name": "Python 3 (ipykernel)",
   "language": "python",
   "name": "python3"
  },
  "language_info": {
   "codemirror_mode": {
    "name": "ipython",
    "version": 3
   },
   "file_extension": ".py",
   "mimetype": "text/x-python",
   "name": "python",
   "nbconvert_exporter": "python",
   "pygments_lexer": "ipython3",
   "version": "3.9.16"
  },
  "widgets": {
   "application/vnd.jupyter.widget-state+json": {
    "state": {},
    "version_major": 2,
    "version_minor": 0
   }
  }
 },
 "nbformat": 4,
 "nbformat_minor": 5
}
